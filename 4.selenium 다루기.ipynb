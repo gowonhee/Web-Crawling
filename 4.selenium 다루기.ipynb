{
 "cells": [
  {
   "cell_type": "markdown",
   "id": "9ca173ef-c766-458d-9c15-ff7ccbe4c521",
   "metadata": {},
   "source": [
    "# Selenium\n",
    "- 브라우저의 동작을 제어할 수 있는 자동화 테스트 도구 ex) 마우스, 키보드, 창 전환 등의 동작\n",
    "- 동적인 콘텐츠를 수집할 때 주로 활용\n",
    "- requests보다는 속도가 느리다는 단점..\n",
    "- 상황에 따라서 활용"
   ]
  },
  {
   "cell_type": "code",
   "execution_count": 1,
   "id": "4fef3a56-25ec-422b-b5fd-a2d34a44b59c",
   "metadata": {
    "scrolled": true
   },
   "outputs": [
    {
     "name": "stdout",
     "output_type": "stream",
     "text": [
      "Collecting selenium\n",
      "  Downloading selenium-4.25.0-py3-none-any.whl.metadata (7.1 kB)\n",
      "Requirement already satisfied: urllib3<3,>=1.26 in c:\\users\\user\\anaconda3\\lib\\site-packages (from urllib3[socks]<3,>=1.26->selenium) (2.0.7)\n",
      "Collecting trio~=0.17 (from selenium)\n",
      "  Downloading trio-0.26.2-py3-none-any.whl.metadata (8.6 kB)\n",
      "Collecting trio-websocket~=0.9 (from selenium)\n",
      "  Downloading trio_websocket-0.11.1-py3-none-any.whl.metadata (4.7 kB)\n",
      "Requirement already satisfied: certifi>=2021.10.8 in c:\\users\\user\\anaconda3\\lib\\site-packages (from selenium) (2024.8.30)\n",
      "Requirement already satisfied: typing_extensions~=4.9 in c:\\users\\user\\anaconda3\\lib\\site-packages (from selenium) (4.9.0)\n",
      "Collecting websocket-client~=1.8 (from selenium)\n",
      "  Downloading websocket_client-1.8.0-py3-none-any.whl.metadata (8.0 kB)\n",
      "Collecting attrs>=23.2.0 (from trio~=0.17->selenium)\n",
      "  Downloading attrs-24.2.0-py3-none-any.whl.metadata (11 kB)\n",
      "Requirement already satisfied: sortedcontainers in c:\\users\\user\\anaconda3\\lib\\site-packages (from trio~=0.17->selenium) (2.4.0)\n",
      "Requirement already satisfied: idna in c:\\users\\user\\anaconda3\\lib\\site-packages (from trio~=0.17->selenium) (3.4)\n",
      "Collecting outcome (from trio~=0.17->selenium)\n",
      "  Downloading outcome-1.3.0.post0-py2.py3-none-any.whl.metadata (2.6 kB)\n",
      "Requirement already satisfied: sniffio>=1.3.0 in c:\\users\\user\\anaconda3\\lib\\site-packages (from trio~=0.17->selenium) (1.3.0)\n",
      "Requirement already satisfied: cffi>=1.14 in c:\\users\\user\\anaconda3\\lib\\site-packages (from trio~=0.17->selenium) (1.16.0)\n",
      "Collecting wsproto>=0.14 (from trio-websocket~=0.9->selenium)\n",
      "  Downloading wsproto-1.2.0-py3-none-any.whl.metadata (5.6 kB)\n",
      "Requirement already satisfied: pysocks!=1.5.7,<2.0,>=1.5.6 in c:\\users\\user\\anaconda3\\lib\\site-packages (from urllib3[socks]<3,>=1.26->selenium) (1.7.1)\n",
      "Requirement already satisfied: pycparser in c:\\users\\user\\anaconda3\\lib\\site-packages (from cffi>=1.14->trio~=0.17->selenium) (2.21)\n",
      "Collecting h11<1,>=0.9.0 (from wsproto>=0.14->trio-websocket~=0.9->selenium)\n",
      "  Downloading h11-0.14.0-py3-none-any.whl.metadata (8.2 kB)\n",
      "Downloading selenium-4.25.0-py3-none-any.whl (9.7 MB)\n",
      "   ---------------------------------------- 0.0/9.7 MB ? eta -:--:--\n",
      "   -- ------------------------------------- 0.5/9.7 MB 16.2 MB/s eta 0:00:01\n",
      "   --------------- ------------------------ 3.7/9.7 MB 47.7 MB/s eta 0:00:01\n",
      "   ------------------------------------ --- 8.9/9.7 MB 70.8 MB/s eta 0:00:01\n",
      "   ---------------------------------------- 9.7/9.7 MB 62.1 MB/s eta 0:00:00\n",
      "Downloading trio-0.26.2-py3-none-any.whl (475 kB)\n",
      "   ---------------------------------------- 0.0/476.0 kB ? eta -:--:--\n",
      "   ---------------------------------------- 476.0/476.0 kB ? eta 0:00:00\n",
      "Downloading trio_websocket-0.11.1-py3-none-any.whl (17 kB)\n",
      "Downloading websocket_client-1.8.0-py3-none-any.whl (58 kB)\n",
      "   ---------------------------------------- 0.0/58.8 kB ? eta -:--:--\n",
      "   ---------------------------------------- 58.8/58.8 kB 3.0 MB/s eta 0:00:00\n",
      "Downloading attrs-24.2.0-py3-none-any.whl (63 kB)\n",
      "   ---------------------------------------- 0.0/63.0 kB ? eta -:--:--\n",
      "   ---------------------------------------- 63.0/63.0 kB ? eta 0:00:00\n",
      "Downloading wsproto-1.2.0-py3-none-any.whl (24 kB)\n",
      "Downloading outcome-1.3.0.post0-py2.py3-none-any.whl (10 kB)\n",
      "Downloading h11-0.14.0-py3-none-any.whl (58 kB)\n",
      "   ---------------------------------------- 0.0/58.3 kB ? eta -:--:--\n",
      "   ---------------------------------------- 58.3/58.3 kB ? eta 0:00:00\n",
      "Installing collected packages: websocket-client, h11, attrs, wsproto, outcome, trio, trio-websocket, selenium\n",
      "  Attempting uninstall: websocket-client\n",
      "    Found existing installation: websocket-client 0.58.0\n",
      "    Uninstalling websocket-client-0.58.0:\n",
      "      Successfully uninstalled websocket-client-0.58.0\n",
      "  Attempting uninstall: attrs\n",
      "    Found existing installation: attrs 23.1.0\n",
      "    Uninstalling attrs-23.1.0:\n",
      "      Successfully uninstalled attrs-23.1.0\n",
      "Successfully installed attrs-24.2.0 h11-0.14.0 outcome-1.3.0.post0 selenium-4.25.0 trio-0.26.2 trio-websocket-0.11.1 websocket-client-1.8.0 wsproto-1.2.0\n"
     ]
    }
   ],
   "source": [
    "# selenium 설치\n",
    "!pip install selenium"
   ]
  },
  {
   "cell_type": "code",
   "execution_count": 2,
   "id": "70d7f9f3-5edb-47ae-ba99-b82bf028994c",
   "metadata": {},
   "outputs": [],
   "source": [
    "# 테스트 브라우저를 실행해주는 역할\n",
    "from selenium import webdriver as wb\n",
    "\n",
    "# 요소를 접근하는 방식을 제공하는 역할\n",
    "from selenium.webdriver.common.by import By\n",
    "\n",
    "# 키보드 입력값을 제공하는 역할\n",
    "from selenium.webdriver.common.keys import Keys"
   ]
  },
  {
   "cell_type": "code",
   "execution_count": 6,
   "id": "74461bfd-8367-4a11-a63a-344ac1b9c36f",
   "metadata": {},
   "outputs": [],
   "source": [
    "# 테스트 브라우저 객체 생성&실행\n",
    "driver = wb.Chrome()"
   ]
  },
  {
   "cell_type": "code",
   "execution_count": 7,
   "id": "6642daa7-1e18-4f5c-aefb-4168ea04307c",
   "metadata": {},
   "outputs": [],
   "source": [
    "# 페이지 정보를 요청하는 메소드\n",
    "driver.get('https://www.naver.com')"
   ]
  },
  {
   "cell_type": "code",
   "execution_count": 10,
   "id": "488e6f12-e1f6-4313-9004-7ea6a4641ddf",
   "metadata": {},
   "outputs": [],
   "source": [
    "# 검색창에 검색키워드 입력 실습\n",
    "# - 검색창 요소 접근하기\n",
    "# find_element(접근방식, 방식에 맞는 값)\n",
    "# - 요소를 수집하는 메소드\n",
    "search_box = driver.find_element(By.ID, 'query')"
   ]
  },
  {
   "cell_type": "code",
   "execution_count": 13,
   "id": "e4496a04-307d-47bc-8c57-489e179ee11b",
   "metadata": {},
   "outputs": [],
   "source": [
    "# 검색키워드를 보내기\n",
    "search_box.send_keys('강아지\\n')"
   ]
  },
  {
   "cell_type": "code",
   "execution_count": 12,
   "id": "ab3201be-17f4-4ec1-8afc-52c6b9e297f2",
   "metadata": {},
   "outputs": [],
   "source": [
    "# 입력창 내용 비우기\n",
    "search_box.clear()"
   ]
  },
  {
   "cell_type": "code",
   "execution_count": 23,
   "id": "402217f2-f40a-4bc3-bde7-17aca3d8b44e",
   "metadata": {},
   "outputs": [],
   "source": [
    "# 이전 페이지로 이동하기\n",
    "driver.back()"
   ]
  },
  {
   "cell_type": "code",
   "execution_count": 17,
   "id": "47847690-acab-4cd7-a15f-babfcb3e4505",
   "metadata": {},
   "outputs": [],
   "source": [
    "# 다음 페이지로 이동하기\n",
    "driver.forward()"
   ]
  },
  {
   "cell_type": "code",
   "execution_count": 19,
   "id": "1f0a2ce7-1ccc-4278-9718-7ae4874fe9df",
   "metadata": {},
   "outputs": [],
   "source": [
    "# 검색창에 키워드 입력 후 검색버튼 클릭하기\n",
    "search_btn = driver.find_element(By.CLASS_NAME, 'btn_search')"
   ]
  },
  {
   "cell_type": "code",
   "execution_count": 20,
   "id": "617062d0-555c-48f6-bd0d-340c499f9c35",
   "metadata": {},
   "outputs": [],
   "source": [
    "search_box = driver.find_element(By.ID, 'query')\n",
    "search_box.send_keys('강아지')"
   ]
  },
  {
   "cell_type": "code",
   "execution_count": 22,
   "id": "2803c833-72ce-42d7-bbdd-69ee1d61fffd",
   "metadata": {},
   "outputs": [],
   "source": [
    "search_btn.click()"
   ]
  },
  {
   "cell_type": "code",
   "execution_count": 24,
   "id": "75ba59c7-ca3d-4dcd-94df-7e0ba9c9ebf4",
   "metadata": {},
   "outputs": [
    {
     "data": {
      "text/plain": [
       "'메일'"
      ]
     },
     "execution_count": 24,
     "metadata": {},
     "output_type": "execute_result"
    }
   ],
   "source": [
    "menu_1 = driver.find_element(By.CSS_SELECTOR, 'span.service_name')\n",
    "menu_1.text"
   ]
  },
  {
   "cell_type": "code",
   "execution_count": 25,
   "id": "001f9dfa-dad7-48ec-89f8-fff47cb42180",
   "metadata": {},
   "outputs": [],
   "source": [
    "# 테스트 브라우저 창 닫기\n",
    "driver.quit()"
   ]
  },
  {
   "cell_type": "code",
   "execution_count": null,
   "id": "5192ef21-27c8-434c-af5e-29bd2c7340fe",
   "metadata": {},
   "outputs": [],
   "source": []
  },
  {
   "cell_type": "code",
   "execution_count": null,
   "id": "6762a7c2-37c5-473d-8e49-f3d4f56f5f0e",
   "metadata": {},
   "outputs": [],
   "source": []
  },
  {
   "cell_type": "code",
   "execution_count": null,
   "id": "e18128f7-7fa3-42a8-a7c0-f578a1caef41",
   "metadata": {},
   "outputs": [],
   "source": []
  },
  {
   "cell_type": "code",
   "execution_count": null,
   "id": "8351c87c-8ed6-4226-9deb-d8c5cdc6480a",
   "metadata": {},
   "outputs": [],
   "source": []
  },
  {
   "cell_type": "code",
   "execution_count": null,
   "id": "67d20c32-2abf-4507-a2de-0a11788d74eb",
   "metadata": {},
   "outputs": [],
   "source": []
  },
  {
   "cell_type": "code",
   "execution_count": null,
   "id": "15a4cb93-f828-4039-bea0-e85f40221565",
   "metadata": {},
   "outputs": [],
   "source": []
  },
  {
   "cell_type": "code",
   "execution_count": null,
   "id": "e1a3ff3c-3852-4565-b874-9b9d4d6be236",
   "metadata": {},
   "outputs": [],
   "source": []
  },
  {
   "cell_type": "code",
   "execution_count": null,
   "id": "536a296d-c519-4903-bbff-f3476838ae4d",
   "metadata": {},
   "outputs": [],
   "source": []
  },
  {
   "cell_type": "code",
   "execution_count": null,
   "id": "f1fc86f1-a401-4003-bd42-fa58f0399bc7",
   "metadata": {},
   "outputs": [],
   "source": []
  },
  {
   "cell_type": "code",
   "execution_count": null,
   "id": "d9a31118-253a-41f6-bfb5-bb8fd83e5846",
   "metadata": {},
   "outputs": [],
   "source": []
  },
  {
   "cell_type": "code",
   "execution_count": null,
   "id": "56afb4bd-8ad2-419e-ab0c-d06e343ea926",
   "metadata": {},
   "outputs": [],
   "source": []
  },
  {
   "cell_type": "code",
   "execution_count": null,
   "id": "15d443ee-b016-421c-92d7-a962efd72209",
   "metadata": {},
   "outputs": [],
   "source": []
  },
  {
   "cell_type": "code",
   "execution_count": null,
   "id": "718db910-87a3-42ed-8cc2-cbb19531bba4",
   "metadata": {},
   "outputs": [],
   "source": []
  },
  {
   "cell_type": "code",
   "execution_count": null,
   "id": "1975faa9-d4d2-4c86-ad08-f6458cffb51e",
   "metadata": {},
   "outputs": [],
   "source": []
  },
  {
   "cell_type": "code",
   "execution_count": null,
   "id": "8df914ff-0311-4c9f-bbfd-0fb3b8515eea",
   "metadata": {},
   "outputs": [],
   "source": []
  },
  {
   "cell_type": "code",
   "execution_count": null,
   "id": "35ee6bb0-64e5-4e70-9f43-63b917036f36",
   "metadata": {},
   "outputs": [],
   "source": []
  },
  {
   "cell_type": "code",
   "execution_count": null,
   "id": "d89ba008-f3ed-4645-a573-4ec91aa4546e",
   "metadata": {},
   "outputs": [],
   "source": []
  },
  {
   "cell_type": "code",
   "execution_count": null,
   "id": "d50e76da-a8ce-4475-a6e1-96a03688b43b",
   "metadata": {},
   "outputs": [],
   "source": []
  }
 ],
 "metadata": {
  "kernelspec": {
   "display_name": "Python 3 (ipykernel)",
   "language": "python",
   "name": "python3"
  },
  "language_info": {
   "codemirror_mode": {
    "name": "ipython",
    "version": 3
   },
   "file_extension": ".py",
   "mimetype": "text/x-python",
   "name": "python",
   "nbconvert_exporter": "python",
   "pygments_lexer": "ipython3",
   "version": "3.11.7"
  }
 },
 "nbformat": 4,
 "nbformat_minor": 5
}
