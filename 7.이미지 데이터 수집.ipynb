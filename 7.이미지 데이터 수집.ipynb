{
 "cells": [
  {
   "cell_type": "code",
   "execution_count": 51,
   "id": "d1f250a7-008c-4ceb-9a96-91fe177f1b40",
   "metadata": {},
   "outputs": [],
   "source": [
    "import time\n",
    "import os # 운영체제 접근 -> 파일/폴더 찾기, 생성, 삭제 기능을 제공하는 라이브러리\n",
    "import pandas as pd\n",
    "\n",
    "from selenium import webdriver as wb\n",
    "from selenium.webdriver.common.by import By\n",
    "from selenium.webdriver.common.keys import Keys\n",
    "from urllib.request import urlretrieve # 이미지 경로를 이용해서 파일로 변환해주는 라이브러리"
   ]
  },
  {
   "cell_type": "code",
   "execution_count": 54,
   "id": "34cfcf23-4f8c-4cf6-b0c3-04891418b82f",
   "metadata": {},
   "outputs": [],
   "source": [
    "# 폴더 생성하기\n",
    "os.mkdir('이미지')"
   ]
  },
  {
   "cell_type": "code",
   "execution_count": 55,
   "id": "ab40e362-ae25-49fe-a89a-5e2b0c1706e1",
   "metadata": {},
   "outputs": [
    {
     "data": {
      "text/plain": [
       "True"
      ]
     },
     "execution_count": 55,
     "metadata": {},
     "output_type": "execute_result"
    }
   ],
   "source": [
    "# 폴더가 있는지 확인하기\n",
    "# - True: 폴더가 있는 상태 / False: 폴더가 없는 상태\n",
    "os.path.isdir('이미지')"
   ]
  },
  {
   "cell_type": "code",
   "execution_count": 56,
   "id": "3f719b34-9927-40d1-bdf4-bae0bd4c7088",
   "metadata": {},
   "outputs": [
    {
     "name": "stdout",
     "output_type": "stream",
     "text": [
      "이미 존재하는 폴더입니다. 다른 이름으로 생성해주세요.\n"
     ]
    }
   ],
   "source": [
    "dir_name = '강아지'\n",
    "\n",
    "if os.path.isdir(dir_name):\n",
    "    print('이미 존재하는 폴더입니다. 다른 이름으로 생성해주세요.')\n",
    "else:\n",
    "    print('폴더생성완료!')\n",
    "    os.mkdir(dir_name)"
   ]
  },
  {
   "cell_type": "markdown",
   "id": "eb6d2e02-ccd8-4647-a28b-a4db23bae567",
   "metadata": {},
   "source": [
    "## 네이버 이미지 페이지에서 스크롤을 내린 후 모든 이미지의 src속성값을 수집하기\n",
    " - 수집한 이미지 주소는 리스트형태로 저장"
   ]
  },
  {
   "cell_type": "code",
   "execution_count": 57,
   "id": "b4816949-ebf3-4bd1-bbd2-231268abba35",
   "metadata": {},
   "outputs": [],
   "source": [
    "url = 'https://search.naver.com/search.naver?ssc=tab.image.all&where=image&sm=tab_jum&query=%EC%9A%94%ED%81%AC%EC%85%94%ED%85%8C%EB%A6%AC%EC%96%B4'\n",
    "driver = wb.Chrome()"
   ]
  },
  {
   "cell_type": "code",
   "execution_count": 58,
   "id": "0343342c-3b84-4803-b459-365ef3559cdc",
   "metadata": {},
   "outputs": [],
   "source": [
    "driver.get(url)"
   ]
  },
  {
   "cell_type": "code",
   "execution_count": 59,
   "id": "fea3a873-fb34-41a1-b373-171570d1eddb",
   "metadata": {},
   "outputs": [],
   "source": [
    "for i in range(5):\n",
    "    driver.find_element(By.TAG_NAME, 'body').send_keys(Keys.END)\n",
    "    time.sleep(1.5)"
   ]
  },
  {
   "cell_type": "code",
   "execution_count": 60,
   "id": "0ee7c0e9-22c7-40b6-8a5c-792a1623c254",
   "metadata": {},
   "outputs": [
    {
     "data": {
      "text/plain": [
       "88"
      ]
     },
     "execution_count": 60,
     "metadata": {},
     "output_type": "execute_result"
    }
   ],
   "source": [
    "image = driver.find_elements(By.CSS_SELECTOR, '.thumb > img')\n",
    "len(image)"
   ]
  },
  {
   "cell_type": "code",
   "execution_count": 62,
   "id": "5227245e-cffb-4f1b-b639-5bebcbf6e5c0",
   "metadata": {},
   "outputs": [
    {
     "name": "stdout",
     "output_type": "stream",
     "text": [
      "https://search.pstatic.net/common/?src=http%3A%2F%2Fblogfiles.naver.net%2FMjAyMjA2MjhfMTE4%2FMDAxNjU2NDAxMTIxNTU1.ZhCzzrAWJTksN6nAa0gT8xGWrZ_2e4Ss9UJD0cUucCUg.ZIx7hVfXNGnMW0RESmDF4dXeDZdG-nQxN-8bpxn02vAg.JPEG.dogcare33%2F4.jpg&type=f54_54\n",
      "https://search.pstatic.net/common/?src=http%3A%2F%2Fcafefiles.naver.net%2F20130602_52%2Foscuro_13701553879283Wi0X_JPEG%2F1012.JPG&type=f54_54\n",
      "https://search.pstatic.net/common/?src=http%3A%2F%2Fblogfiles.naver.net%2F20140726_154%2Folivepet_14063736813679TugU_JPEG%2F_MG_6136.JPG&type=f54_54\n",
      "https://search.pstatic.net/common/?src=http%3A%2F%2Fblogfiles.naver.net%2FMjAxOTEwMDdfMTAx%2FMDAxNTcwNDQ0OTc5ODM3.xYX9XlAycZXcVCZXSg1f5CM8tcc23Xg6A_R8wTlKDqIg.A4WizqZFcuuID9OR-cPR2Lg_THWDwChRHRhJlXaPb1Ag.JPEG.pet4u1%2F%25BF%25E4%25C5%25A9%25BC%25C5%25BC%25BA%25B0%25DF%25B4%25DC%25B8%25F0.jpg&type=f54_54\n",
      "https://search.pstatic.net/common/?src=http%3A%2F%2Fcafefiles.naver.net%2F20110908_63%2Fstylist0211_1315486747571zrWfQ_jpg%2F1301563418788_stylist0211.jpg&type=f54_54\n",
      "https://search.pstatic.net/common/?src=http%3A%2F%2Fblogfiles.naver.net%2FMjAxOTAxMjhfOTYg%2FMDAxNTQ4NjQ3OTAyNjk0.5gaTndkoommqarKKB1-LOQCmRB2L_rvxCua18GITUC4g.r-rrx_F61Nb62lq66ETPB7O-n6JTUgujDJnueUrQsGog.JPEG.dogsketch%2FDSC_0373s.jpg&type=f54_54\n",
      "https://search.pstatic.net/common/?src=http%3A%2F%2Fblogfiles.naver.net%2F20130730_205%2Fvvovvoj_13751556983969zrSN_JPEG%2F20130727-%25BD%25C4%25BB%25A7%25C0%25CC02.jpg&type=f54_54\n",
      "https://search.pstatic.net/sunny/?src=https%3A%2F%2Fwww.zooseyo.com%2Fpet_care%2Fphoto%2F1424650354_41028700.jpg&type=f54_54\n",
      "https://search.pstatic.net/common/?src=http%3A%2F%2Fcafefiles.naver.net%2F20141020_48%2Fgksxodnr99_1413814744633nuSVx_JPEG%2F1406940922519.jpeg&type=f54_54\n",
      "https://search.pstatic.net/common/?src=http%3A%2F%2Fblogfiles.naver.net%2FMjAyMzA4MDdfMjI4%2FMDAxNjkxMzgwMzYyNjcx.YVqgML91199WAJk7VWI8eHnhRMYW9H_NhYfcwM3WZuIg.XjNunIob8Qt_ctFrTQTu406ty3CgEFEDEx7OZsT9N0Yg.PNG.s22_%2F%25BF%25E4%25C5%25B0%25C0%25CE%25C7%25FC.png&type=f54_54\n",
      "https://search.pstatic.net/common/?src=http%3A%2F%2Fblogfiles.naver.net%2FMjAyMzEwMDFfMTU3%2FMDAxNjk2MTYxNDkxMzky.p6Y7IHMtXjYyU_TDnM6jtKqKkVoUik1A0j3B3AzJIRMg.QVci9XDBYnSq-XC6iA9cge2Ohk10gocnNYm4HLMwwdwg.JPEG.lael_v_v%2F3472506254459744828_20230510203033774.jpg&type=f54_54\n",
      "https://search.pstatic.net/common/?src=http%3A%2F%2Fblogfiles.naver.net%2F20160322_105%2Fimplus01_1458657862342Byq8i_JPEG%2Fwm298709.jpg&type=f54_54\n",
      "https://search.pstatic.net/common/?src=http%3A%2F%2Fblogfiles.naver.net%2FMjAyMjEwMjJfMjA3%2FMDAxNjY2NDI1NDY2OTIx.1zCeUo6kbvV1lHsenYrmARKuJCumIjlLZYVEk9dpzqAg.-iyvae4-JGoJMah7QtT8fTfRies7M3Fz2dxJkc2hbAkg.PNG.hs_sh73%2F%25B4%25D9%25BF%25EE%25B7%25CE%25B5%25E5_%25C6%25C4%25C0%25CF%25A3%25DF20221022165736.png&type=f54_54\n",
      "https://search.pstatic.net/common/?src=http%3A%2F%2Fblogfiles.naver.net%2FMjAxODEwMjRfMjM5%2FMDAxNTQwMzY2NjIwNzY2.GSUvdqles2rhkE7QOGOyJz2VNrZ5Rdva6-ZOJqWNC-Ug.g8WxEXdV7CvDKtYeiooaZ77_5R0H0_4tBSZhwmuYByQg.JPEG.dogmaru00%2F%25BF%25E4%25C5%25A9%25BC%25C5%25C5%25D7%25B8%25AE%25BE%25EE%25B9%25AB%25B7%25E1%25BA%25D0%25BE%25E7_3.jpg&type=f54_54\n",
      "https://search.pstatic.net/common/?src=http%3A%2F%2Fblogfiles.naver.net%2FMjAxOTEyMjNfMjc0%2FMDAxNTc3MTAxMjM1Nzcy.0i_2R1XCCGqly2xZRt46yaRvHrmAbGwB-EmNLcTfRakg.QvQ55Ou6klTp6mBn9qmvaQDkpV24IJfnCGpzYEMr5awg.JPEG.caviare1317%2F10_05_Petcyclopedia.jpg&type=f54_54\n",
      "https://search.pstatic.net/common/?src=http%3A%2F%2Fblogfiles.naver.net%2FMjAxOTEyMjNfMjc0%2FMDAxNTc3MTAxMjM1Nzcy.0i_2R1XCCGqly2xZRt46yaRvHrmAbGwB-EmNLcTfRakg.QvQ55Ou6klTp6mBn9qmvaQDkpV24IJfnCGpzYEMr5awg.JPEG.caviare1317%2F10_05_Petcyclopedia.jpg&type=f54_54\n",
      "https://search.pstatic.net/common/?src=http%3A%2F%2Fblogfiles.naver.net%2FMjAyMzExMTZfMTA5%2FMDAxNzAwMTE2NjMzMDM1.UXZSTLNaevuIkJ1HqN0psluMv8w4ibkbcPxrZI-73nQg.gRFNKCyQNVj0JSXMaVD0zdvM9Oekh7uXMVpVKYapuxcg.JPEG.qbxl7love%2FIMG_7663.JPG&type=ff64_64\n",
      "https://search.pstatic.net/common/?src=http%3A%2F%2Fcafefiles.naver.net%2F20160326_68%2Fdbswl4694_1458997151993Qi153_JPEG%2F740_20150808_235106.jpg&type=ff64_64\n",
      "https://search.pstatic.net/common/?src=http%3A%2F%2Fcafefiles.naver.net%2F20150430_253%2Finnuai_salon_1430387222393uvYB9_JPEG%2FIMG_20150428_024256.jpg&type=ff64_64\n",
      "https://search.pstatic.net/common/?src=http%3A%2F%2Fblogfiles.naver.net%2FMjAyMzExMTBfMTAz%2FMDAxNjk5NjA2MjIwMDU2.m7bxleNOZRC2cvBNlb6S1Hfc2sP9rIDy-WtLc_KC5dAg.I97QKT73j21yHMyEMazO7OrAoPZNv8s5hlfGm-j2C8kg.JPEG.tukdol%2FKakaoTalk_20231110_172524696_02.jpg&type=ff64_64\n",
      "https://search.pstatic.net/common/?src=https%3A%2F%2Fldb-phinf.pstatic.net%2F20240126_156%2F1706264928027Mj6w3_JPEG%2FIMG_7578.jpeg&type=ff64_64\n",
      "https://search.pstatic.net/common/?src=http%3A%2F%2Fblogfiles.naver.net%2FMjAyNDAxMTFfNTIg%2FMDAxNzA0OTc1OTU4MjM5.nVJUDBNAirpYsDLYae4_4XU_r1kvStdDbgAGM23QWgkg.PJpyQq8O-2MmeS7ardmohJ4stbS9nO4LZdPoMiTnjWkg.PNG.luvkki%2Fb04f5dd7-fa75-4a5a-b34e-6171c4da5a1b.png&type=ff64_64\n",
      "https://search.pstatic.net/common/?src=http%3A%2F%2Fblogfiles.naver.net%2FMjAyNDAyMTJfMzEg%2FMDAxNzA3NzI0Njk3NzY0.uH5VppaUdw7loAEeJekt6fKLsokVe4s7sE0VSCJuOEog.bnyFOBFHtE-CgQ4Om026CKWwt4-noEIN2F5MXNYN64cg.JPEG.minjiwhan1004%2F%25B3%25EB%25B8%25AE%25C4%25A1%25C5%25D7%25B8%25AE%25BE%25EE_%25B8%25F0%25B8%25F0_%25B0%25AD%25BE%25C6%25C1%25F6_%25B0%25DF%25C1%25BE_.jpg&type=ff64_64\n",
      "https://search.pstatic.net/common/?src=http%3A%2F%2Fblogfiles.naver.net%2FMjAyMzA5MTJfMjAx%2FMDAxNjk0NDg4NjI4ODM1.oln4DVDeARLwKbUM21CE0LU2IGuBR5zLvmMBNdQBy34g.oKaao5JuO1x9ZnEfUxPl7ZjCMPxAvJ96p3H3piqnEyAg.JPEG.dadog_dadog%2FIMG_1996.JPG&type=ff64_64\n",
      "https://search.pstatic.net/common/?src=http%3A%2F%2Fblogfiles.naver.net%2FMjAyNDA2MjRfMTQx%2FMDAxNzE5MTg5MjY3MzA3.8T5XjEOBsDNxZxqBxDtf1UAfs_C5WxH05_Roh0a95OIg.2mrr5FpbfQmU-UnObv-c7GRKvxKkk_B0_w6wrMiaUAwg.JPEG%2F%25B4%25D9%25BF%25EE%25B7%25CE%25B5%25E5%25C6%25C4%25C0%25CF%25A3%25DF20240624%25A3%25DF093318.jpg&type=ff64_64\n",
      "https://search.pstatic.net/common/?src=http%3A%2F%2Fblogfiles.naver.net%2FMjAyMzA2MTVfMTIx%2FMDAxNjg2Nzg1NDMyNjYx.xwmUoBr7GlYfmnq9I78j7FvaUqMP5k_DOFI3uZ-jWesg.K1P7GAHvlvPVLHydWNugN5awZptE7Vl4vKSFHnjWDGgg.JPEG.hsboutique%2FIMG_2668.JPG&type=ff64_64\n",
      "https://search.pstatic.net/common/?src=http%3A%2F%2Fblogfiles.naver.net%2F20110621_147%2Fokkk00_1308622582293eeH2O_JPEG%2F5.jpg&type=ff64_64\n",
      "https://search.pstatic.net/common/?src=http%3A%2F%2Fblogfiles.naver.net%2FMjAyNDA2MDNfMTU5%2FMDAxNzE3MzQyOTI2MzE0.xf0ONTWRf4OrE3VQL8ZWintUCNoAkeLD6-ObQGZkr-Ag.9aUXVtI9mQM6iLCAzf29cHGnqcNPKe57BWWISnYgQzwg.PNG%2F%25B0%25AD%25BE%25C6%25C1%25F6%25BC%25BA%25B0%25DD4.png&type=ff64_64\n",
      "https://search.pstatic.net/common/?src=http%3A%2F%2Fblogfiles.naver.net%2FMjAyMzA3MjBfMTEw%2FMDAxNjg5ODQwNzc3Mjcy.zn-rctLq4du6Qgi00DcXxCpyHnrl6tgpuNyFtBEfb9Ag.pixndAORFxOw5C1fvnAuFH-s4zTaPxAAE_ODJWrZpJgg.PNG.rlatpwls0374%2F%25C5%25E4%25C0%25CC%25BA%25A3%25BA%25A3_4749.png&type=ff64_64\n",
      "https://search.pstatic.net/sunny/?src=https%3A%2F%2Fi.pinimg.com%2F736x%2Ff3%2Fe8%2F3a%2Ff3e83af55908cd990d2fca5467322815.jpg&type=ff64_64\n",
      "https://search.pstatic.net/common/?src=http%3A%2F%2Fblogfiles.naver.net%2FMjAxODA3MjhfMjYw%2FMDAxNTMyNzY5NDI5MDUw.Pes7mRMSfVBx14fGD6exXlF_usxDAhMMNL6F5MLDXosg.VXX9Tg0jbdbWOXhs8PqfJt6hYAiGLl6goNVF308-nrog.JPEG.ddogddogcafe%2FMaky_Tommy_Jerry-6-2.jpg&type=ff64_64\n",
      "https://search.pstatic.net/common/?src=http%3A%2F%2Fblogfiles.naver.net%2FMjAyNDA3MTNfMjY1%2FMDAxNzIwODUxNTQ3OTQ1.i5_cxE-VrDx3S0lFRqgIoi87C0QJB_vc--oZrFdOxXUg.60aCJc7RHOOqZOWuTMYgiDorbdXrLy_gsLoIglbtPugg.JPEG%2F%25B4%25D9%25BF%25EE%25B7%25CE%25B5%25E5%25C6%25C4%25C0%25CF%25A3%25DF20240713%25A3%25DF144915.jpg&type=ff64_64\n",
      "https://search.pstatic.net/common/?src=http%3A%2F%2Fblogfiles.naver.net%2FMjAyMzA0MjZfMzkg%2FMDAxNjgyNDQxMDEyNjE0.2Mw27hvSe-moUQDZIfM3LYB4_q9EKgbM_mjRET5DgCEg.bbaRpA0ZLc0kxzFpsa0d6bJJXYu2hxIOQxYjyoZvGZIg.PNG.to8240%2Fimage.png&type=ff64_64\n",
      "https://search.pstatic.net/sunny/?src=https%3A%2F%2Fwww.dogdrip.net%2Fdvs%2Fd%2F22%2F03%2F21%2F0200013d8b2108301c0e70cc614343f3.jpg&type=ff64_64\n",
      "https://search.pstatic.net/common/?src=http%3A%2F%2Fblogfiles.naver.net%2FMjAyMTAyMTFfMjM3%2FMDAxNjEzMDIwMTkxMjg4.mOK7xbRHahm3s024byrcXgIjPr0869EGQHHXtbkWRkQg.pybrDWvszup1EilAu-Z-TxpalsIYD-g0_wzSCVLngYAg.JPEG.d__r__0314%2FKakaoTalk_20210211_140308452_02.jpg&type=ff64_64\n",
      "https://search.pstatic.net/common/?src=http%3A%2F%2Fblogfiles.naver.net%2FMjAyMjA5MjVfNzcg%2FMDAxNjY0MTA5ODY3OTc2.7j1nATp6tswF3u1Bq41sKvgUC0H9PbYaH6bjgwUgDVkg.PM9fYKUNA7EZXZGpyEtcfKNpgzj67H1Ndk8fDGDyawkg.JPEG.iloveyoujsy%2FP20220920_160454964_2DA48276-6116-4B79-8CDC-A125003386DE.jpg&type=ff64_64\n",
      "https://search.pstatic.net/common/?src=http%3A%2F%2Fblogfiles.naver.net%2FMjAyNDA0MTJfMjgg%2FMDAxNzEyODc4NjgyMDUz.p_sRvt6HzBtt-0H9uA_Vkru493xRJ5bPObQ0Bl3hntQg.L3CmlOvCOsMBqAvOeX3aUnRN9X9_RUNh2LdHltLIn1gg.JPEG%2FIMG_5055.JPG&type=ff64_64\n",
      "https://search.pstatic.net/common/?src=http%3A%2F%2Fblogfiles.naver.net%2FMjAyNDAyMDhfMTA1%2FMDAxNzA3MzgzMjUzMjEy.oEMLmNtJbRtvFguq0ZXzHWTi8kDPLpmY_LjfNUDnfW4g.TrMnlRDWYjvXA-UboO6iYGHqGAIJBpRgM30cJXG9VB0g.PNG.kkkyunj1225%2FIMG_9620.PNG&type=ff64_64\n",
      "https://search.pstatic.net/common/?src=http%3A%2F%2Fblogfiles.naver.net%2FMjAyMjA4MTdfMTIx%2FMDAxNjYwNjk2MTAxNDg1.sPcjt1jupPFfAo_7MnDkF1cb1IiRC5a0P7q0vRPoUfgg.n6ITFnHEcV0BQWjtJEo1hQQNiiL2_uo2IMFjPMjEXfQg.JPEG.xoxoblogg%2FIMG_4608.JPG&type=ff64_64\n",
      "https://search.pstatic.net/common/?src=http%3A%2F%2Fblogfiles.naver.net%2FMjAyNDA2MDdfMzUg%2FMDAxNzE3NzM2Mzk1NDM0.TzAlt4iYpiJvy6hX1GBUQokFVfMNHdfyoQzHHy1-2Qkg.Jcu7IgyHvTCwoE2S9Mu55QAtlj1xLmfGVXtKuyy0NTkg.JPEG%2F2.jpg&type=ff64_64\n",
      "https://search.pstatic.net/common/?src=http%3A%2F%2Fblogfiles.naver.net%2FMjAyNDA3MjRfNTEg%2FMDAxNzIxNzgxNzM4MjI2.tOyvrOMpz7TBFM8lOp2RCSRCTB42tnmH-Qg03Qo972sg.oO6Sgk2x3W-ScKWsffDlkKH0IQW_2DSUDnaOexn5SUYg.JPEG%2F%25B4%25D9%25BF%25EE%25B7%25CE%25B5%25E5%25C6%25C4%25C0%25CF%25A3%25DF20240724%25A3%25DF094117.jpg&type=ff64_64\n",
      "https://search.pstatic.net/sunny/?src=https%3A%2F%2Fi.pinimg.com%2F736x%2F1b%2Fe9%2F34%2F1be934d18c586554b1be7895cb2da98a.jpg&type=ff64_64\n",
      "https://search.pstatic.net/sunny/?src=http%3A%2F%2Fimg.bemil.chosun.com%2Fnbrd%2Fdata%2F10044%2Fupfile%2F201004%2F20100409202744.jpg&type=ff64_64\n",
      "https://search.pstatic.net/common/?src=http%3A%2F%2Fblogfiles.naver.net%2FMjAyNDA3MjlfNCAg%2FMDAxNzIyMjExMzA2MDQ1.fO3_J5RI6YpE9ZtKjqXcFxaBft87CiYZn0u01_PRmUMg.opKMNccty_qfsiwxzVaQLGxJDjYVOxUHyhMHkCXlJzsg.JPEG%2F%25B4%25D9%25BF%25EE%25B7%25CE%25B5%25E5%25C6%25C4%25C0%25CF.jpg&type=ff64_64\n",
      "https://search.pstatic.net/common/?src=http%3A%2F%2Fblogfiles.naver.net%2FMjAyMzA5MTZfMTM5%2FMDAxNjk0ODc1NjQ0NDM4.o3-58wrlGzSLR87frN2ywh78H4z5P98Pipg5s-2mnIsg.YqKQ7AUpX4lVof0ijhhtdJmsmc6VA0gt6bjxnbd8c30g.JPEG.specialday1%2FDSC_9490.jpg&type=ff64_64\n",
      "https://search.pstatic.net/common/?src=http%3A%2F%2Fblogfiles.naver.net%2FMjAyNDAzMTFfNCAg%2FMDAxNzEwMTQxMDk2MTEy.9GrOsBOVRAQbIyw9CXY_fQGdMZZ6H6_aWmCwjj3IrSYg.tRfhEg5pU2DQ7ZlAIEXCI6S2qJ8agR-Ll5Bej6tdzBQg.JPEG%2F%25BB%25E7%25B8%25F0%25BF%25B9%25B5%25E5_%25288%2529.jpg&type=ff64_64\n",
      "https://search.pstatic.net/common/?src=http%3A%2F%2Fblogfiles.naver.net%2FMjAyNDA1MTBfOTgg%2FMDAxNzE1MzE4MDc0NDM4.G-tl8zNyk6d-vx3UxttZlSCBgYlczTcU5j3yTXUujbIg.cHQoiS96ztUPvV-fz2f8aGYigq39QseWJrMSzomDLTEg.JPEG%2F5F775C66-D25E-4A49-9399-87DB94FCC5B7.JPG&type=ff64_64\n",
      "https://search.pstatic.net/common/?src=http%3A%2F%2Fcafefiles.naver.net%2FMjAxODExMDJfMTUx%2FMDAxNTQxMTE0MTM1MjE5.cFxOchVezriKLbFVPtct9vRZz1H1ITpla8zp2-NlD_Mg.YGY3Y3Fq_esvvdfddyYUqHWqxzceKYNJCHgpauqzixAg.PNG.8at5y7tgs0t%2F%25BA%25AF%25C8%25AF.png&type=ff64_64\n",
      "https://search.pstatic.net/common/?src=http%3A%2F%2Fblogfiles.naver.net%2F20150513_161%2Fpuppyyam_1431502095713hyIA2_PNG%2Fterier1.png&type=ff64_64\n",
      "https://search.pstatic.net/common/?src=http%3A%2F%2Fblogfiles.naver.net%2FMjAyMjA5MjNfMTcy%2FMDAxNjYzODg1MTQwMTM5.eX9TkuGkBggL--7NVePFBkvSxMK5C82rVbM8VVOeOYsg.tUNtrUBA0y7PO-PBctHRh0_K7UC1LAvw2k_6dGvyK2Ag.JPEG.lucetediary%2F%25B7%25E7%25C3%25BC%25C5%25D7%25C6%25F7%25C5%25E4%25BD%25BA%25C6%25A9%25B5%25F0%25BF%25C0%25BE%25D6%25B0%25DF%25B9%25DD%25B7%25C1%25B0%25DF%25B0%25AD%25BE%25C6%25C1%25F6%25BD%25BA%25C6%25A9%25B5%25F0%25BF%25C0%25C1%25F5%25B8%25ED%25BB%25E7%25C1%25F8%25C7%25C1%25B7%25CE%25C7%25CA%25BB%25E7%25C1%25F8%25C3%25D4%25BF%25B53.jpg&type=ff64_64\n",
      "https://search.pstatic.net/sunny/?src=https%3A%2F%2Fd2u3dcdbebyaiu.cloudfront.net%2Fuploads%2Fatch_img%2F722%2Ffc418b6f8c6a76b4fd5dc71603d81606_res.jpeg&type=ff64_64\n",
      "https://search.pstatic.net/common/?src=http%3A%2F%2Fblogfiles.naver.net%2FMjAyMjEyMDdfMjgz%2FMDAxNjcwMzQyMTk5NDYz.fA-UJv6jMGIbwcBxonZXSffvIaol4abxW6_mNiB6-Vog.3UeLsyG_3H4qpsgWTg5AIsxnv0PHKtZpPQnGO1iI99og.JPEG.goodnonz%2Fdog-1910379_1920.jpg&type=ff64_64\n",
      "https://search.pstatic.net/common/?src=http%3A%2F%2Fblogfiles.naver.net%2FMjAyMzAzMDhfMjUx%2FMDAxNjc4Mjc4NzM4Mjgx.m9Mzi8Qaj0KmHJoLSrqu6CGUH71E3I2NX0n5gfvVXXMg.MON0hkdaMMkfDhclj-ogwBMBU_BCj8w7_JsgU_6xy6kg.JPEG.ppfbhj%2FScreenshot%25A3%25DF20230308%25A3%25DF212814%25A3%25DFNAVER.jpg&type=ff64_64\n",
      "https://search.pstatic.net/common/?src=http%3A%2F%2Fblogfiles.naver.net%2FMjAyMzAyMjZfNTcg%2FMDAxNjc3NDE4Nzg1ODkz.kNwXwIURRA8dLj-XtLTq2hwQtoOZxxqcXe-lRr4LqG4g.IJA4e3_0Q80UHtozgMQCFHcUbKyG34gUWGl5zCPqKawg.JPEG.terrra1004%2FP20230113_215728311_0E02587B-B11A-4418-AE1F-595F0E1DEF28.jpg&type=ff64_64\n",
      "https://search.pstatic.net/common/?src=http%3A%2F%2Fblogfiles.naver.net%2FMjAyNDA3MTNfMTk5%2FMDAxNzIwODUyMzQzMTkz.x9qmlJjOU7zIjWtPZ3YuGozfkRPZzxbR35DnGxDVPPwg.UoC3Wi14hiBy73cxdIC2lcOjdKHWvXoqOXQflOqtGcAg.JPEG%2F%25B4%25D9%25BF%25EE%25B7%25CE%25B5%25E5%25C6%25C4%25C0%25CF%25A3%25DF20240713%25A3%25DF153118.jpg&type=ff64_64\n",
      "https://search.pstatic.net/common/?src=http%3A%2F%2Fblogfiles.naver.net%2FMjAyMzA2MjVfMTY0%2FMDAxNjg3Njc3MDU1NTU4.5TqNwbaQLWlqLbrhyfvA7nRtRyZGbU9vrqIb4aEG9mAg.NDixHIkIa_aCLu8AQgphwH0sV5pqoLLvvAs7w5lsqY0g.JPEG.luckyl07%2Fdafaf311000.jpg&type=ff64_64\n",
      "https://search.pstatic.net/common/?src=http%3A%2F%2Fblogfiles.naver.net%2F20120404_90%2Fljm2758613_1333547974996Va3p7_JPEG%2F%25B2%25D9%25B9%25CC%25B1%25E2_2IMG_2750.JPG&type=ff64_64\n",
      "https://search.pstatic.net/common/?src=http%3A%2F%2Fblogfiles.naver.net%2FMjAyMzAyMDZfMjgw%2FMDAxNjc1NjY3NzI3ODQz.tJvp3daO70VJsJeH6yz3Q01yWi89_mMAMzhiNz-1-FEg.Jdcq0j_oM35h1HTGl4_WKSvxoA2kNHDRkCPGR3qHTvAg.JPEG.yesthemarketing%2F%25B2%25C7%25C1%25F63.jpg&type=ff64_64\n",
      "https://search.pstatic.net/common/?src=http%3A%2F%2Fblogfiles.naver.net%2FMjAyMDAzMDNfMjk0%2FMDAxNTgzMjQyMjM4MDcx.iNiG0hLL8YIlmdkJpPDYTXaaEaBWj63KIRbQv1Rv9Ssg.yQOYZiqNqDkAGejMv7CXHeowd_lSGpuDS9GgZdAz3oMg.JPEG.taterrier%2F20031956_10155643708654363_7593534490431390448_n.jpg&type=ff64_64\n",
      "https://search.pstatic.net/common/?src=http%3A%2F%2Fshop1.phinf.naver.net%2F20210901_240%2F16304815503652hnYD_JPEG%2F31617330083639630_1500308395.jpg&type=ff64_64\n",
      "https://search.pstatic.net/common/?src=http%3A%2F%2Fblogfiles.naver.net%2FMjAyNDA3MjlfNCAg%2FMDAxNzIyMjExMzA2MDQ1.fO3_J5RI6YpE9ZtKjqXcFxaBft87CiYZn0u01_PRmUMg.opKMNccty_qfsiwxzVaQLGxJDjYVOxUHyhMHkCXlJzsg.JPEG%2F%25B4%25D9%25BF%25EE%25B7%25CE%25B5%25E5%25C6%25C4%25C0%25CF.jpg&type=ff64_64\n",
      "https://search.pstatic.net/common/?src=http%3A%2F%2Fblogfiles.naver.net%2F20111225_129%2Fkammi79_13248208368961cQSj_JPEG%2F10C0CF_00008_kammi79.jpg&type=ff64_64\n",
      "https://search.pstatic.net/common/?src=http%3A%2F%2Fblogfiles.naver.net%2FMjAxOTA0MDlfMTUg%2FMDAxNTU0NzgyNDUyMjA1.2Xb_-xUc0Ak44SPn7RAeUtmJlLT_buBjUqaw45aOaPgg.tCKc-5ZEG-m36UyYzwlt9NAO2NLQg9Kv9X4xf-JoNG8g.JPEG.phsp8553%2F%25B8%25BB%25C6%25BC%25BD%25B4%25B8%25BB%25C6%25BC%25C7%25AA7.jpg&type=ff64_64\n",
      "https://search.pstatic.net/sunny/?src=https%3A%2F%2Fdthumb-phinf.pstatic.net%2F%3Fsrc%3D%2522https%3A%2F%2Fmblogthumb-phinf.pstatic.net%2FMjAyMjA4MzFfNTkg%2FMDAxNjYxOTU0ODY4MDY3.azXFSDE5MNhVnUhObcw2kYWU6PfmeLGzbsaOtNnwZ9Qg.Cj6NbMq2UEftQF2eyidQL2Dathz-LvxyCLSlhNvtk7Qg.JPEG.gecko_log%2F%2525BA%2525A3%2525B5%2525E9%2525B8%2525B5%2525C5%2525CF%2525C5%2525D7%2525B8%2525AE%2525BE%2525EE.jpg%3Ftype%3Dw800%2522%26opts%3D2%26twidth%3D700%26theight%3D700&type=ff64_64\n",
      "https://search.pstatic.net/common/?src=http%3A%2F%2Fblogfiles.naver.net%2FMjAyNDAxMTlfMTA4%2FMDAxNzA1NjU1OTk4Mzkx.47H3ItPwR73rGi72PB8bw45EAf_VHqysOilUwW-r2a0g.vLzNImT6nEOXHKB5_Bp-2NiK5Rkr10iqqFecIDqu9D4g.PNG.kimseul0218%2F20240119_181906.png&type=ff64_64\n",
      "https://search.pstatic.net/common/?src=http%3A%2F%2Fblogfiles.naver.net%2FMjAyNDA4MjlfMTg3%2FMDAxNzI0OTIzMjI2OTY0.K1rDbtWrTFHePlpRkxzzi0xIDfsNyr5qQsQWn2SfPr4g.qO9xNPbAdeTZZbXwjioH0uHtGVrE6NKHZPFL9Zaw6Zgg.JPEG%2FIMG_6779.JPG&type=ff64_64\n",
      "https://search.pstatic.net/common/?src=http%3A%2F%2Fblogfiles.naver.net%2FMjAyMzA1MjJfMjY1%2FMDAxNjg0NzYyNDMxOTA0.F4hLL2Ah8qcPdp0vJ1QHTIJN-u6KbKYDhLtqz2M60scg.m_hkKwZgelVqebjWuOiFvo7DwfJcFQnx3up5EumsVkAg.PNG.stagbeetil%2Fimage.png&type=ff64_64\n",
      "https://search.pstatic.net/common/?src=http%3A%2F%2Fblogfiles.naver.net%2FMjAyMzA4MjVfMzYg%2FMDAxNjkyOTU0NzEzOTY2.2hrQV1H2lnopVfhX1KtrSfp6Sel5a_BZq4YkXYzYbtIg.oEuk-qoPKOrp5hrRD-W7eNPWELaIox98VhklydMSfDcg.JPEG.sch0910%2FCYMERA%25A3%25DF20230825%25A3%25DF180739.jpg&type=ff64_64\n",
      "https://search.pstatic.net/common/?src=http%3A%2F%2Fpost.phinf.naver.net%2FMjAyMDA5MjlfMTcw%2FMDAxNjAxMzY3NTY1NjI4.KNy5-vT99bbFOGQ9dH_bjrGXycaBJJKIPjSw4vK_uA0g.hWMLmJmy8ob3WdYQCnYSim3YFUbbs8XKEZ2f24oD4lIg.JPEG%2FITwq3WMvCpCiC5x2s3-ZLr2npT1o.jpg&type=ff64_64\n",
      "https://search.pstatic.net/common/?src=http%3A%2F%2Fblogfiles.naver.net%2FMjAyMzA1MDlfMjQ1%2FMDAxNjgzNTcwNjk3NDEx.P8z5MaooiphXE8sCc_ME2fDAdLDDC2i1N7xLSEcfxjEg.6_wj8fSHk0QQQUyVsUsgC_ASoUz2x3YdhZwfbZsERGEg.JPEG.pomm6e%2F3.JPG&type=ff64_64\n",
      "https://search.pstatic.net/common/?src=http%3A%2F%2Fblogfiles.naver.net%2FMjAyMzAzMDJfMjcg%2FMDAxNjc3NzU1ODIxNTY3.eR5XqYG4QbY3PngR91Cxf5T3FIvp1O7yYimQnwUSIvQg.atv999Pck0RFgQoiASWqXK6TnVYEuOSOwTouC1TO74Ig.JPEG.chomi29%2FSiberian-Husky-courtesy-Eileen-M.-Gacke-2.jpg.optimal.jpg&type=ff64_64\n",
      "https://search.pstatic.net/common/?src=http%3A%2F%2Fblogfiles.naver.net%2FMjAyMjEwMTJfMjk1%2FMDAxNjY1NTYyNzg5NTk0.qnA4x7agNdOj0FNQHGnTsBFz3e3KVWFxGjemg5CmHTIg.4SBHjrKw7tHqSTn8gYzsEoptjI_U7aKdD2J9t4y4Z68g.JPEG.jinyoung8075%2FIMG_0178.JPG&type=ff64_64\n",
      "https://search.pstatic.net/common/?src=http%3A%2F%2Fblogfiles.naver.net%2F20110621_40%2Fokkk00_1308622569847IGbXx_JPEG%2F7.jpg&type=ff64_64\n",
      "https://search.pstatic.net/common/?src=http%3A%2F%2Fblogfiles.naver.net%2FMjAyMTA1MTVfMTgw%2FMDAxNjIxMDA5NjUzMjc5.tHgS82119eakzI7VVfuMlLhCsYZ0jzvf49QQ9zeFB2og.O0Z51ujngmFDowNqM5w3UPcTJxJpgpVfa0chEKfs1qUg.PNG.yourns%2F01.png&type=ff64_64\n",
      "https://search.pstatic.net/common/?src=http%3A%2F%2Fblogfiles.naver.net%2FMjAyMTA1MjlfMyAg%2FMDAxNjIyMjU5NTAyODEx.bjQ90zI1aMDFkccJuM0PR9GTaA6VFbMtcuyisd-0fXog.aCx8RWbv6HEyVzkPhZRONqUOg-rjFfM4ze9vzLg8THog.JPEG.elizapet%2FKakaoTalk_20210524_214652589_02.jpg&type=ff64_64\n",
      "https://search.pstatic.net/sunny/?src=http%3A%2F%2Ffile3.instiz.net%2Fdata%2Fcached_img%2Fupload%2F2023%2F02%2F09%2F17%2F69827979142853114470d18e472e9bf4.jpg&type=ff64_64\n",
      "https://search.pstatic.net/common/?src=http%3A%2F%2Fblogfiles.naver.net%2FMjAxODAxMzBfODcg%2FMDAxNTE3MjM5MDI4Mzg0.h5d-eLcG43JSOAhW8BdVfmEnxNWdyHIYbnzZvCNEOa0g.-xD0c22g94UV5-UA9BzohBIcz5coRjRXnekP_nZs1I8g.JPEG.qoehddls2%2F%25B0%25AD%25BE%25C6%25C1%25F6%25C1%25BE%25B7%25F9.JPG&type=ff64_64\n",
      "https://search.pstatic.net/common/?src=http%3A%2F%2Fblogfiles.naver.net%2FMjAyMzEwMTNfODYg%2FMDAxNjk3MTY3Mzc4ODM5.HGzQ-ROWYchWaencuITn88SbobzRjkLsIKvD9vQY-qgg.4CMWeG7qMXFNQteEbnQJof3gM0ZYHvoOz39F_0D56KUg.PNG.merry_diary%2F%25C6%25FB%25BD%25BA%25C5%25B0_%25C6%25FB%25C7%25C7%25C3%25F7_%25B8%25BB%25C6%25BC%25C6%25FB_%25C6%25F7%25B8%25DE%25B6%25F3%25B4%25CF%25BE%25C8_%25283%2529.PNG&type=ff64_64\n",
      "https://search.pstatic.net/common/?src=http%3A%2F%2Fblogfiles.naver.net%2FMjAyMzAxMjBfMjA2%2FMDAxNjc0MTQwOTEzMDk3.2Qrwa5mC1X7R6-cv1-Yj1VVdNSo0aG_x57RzsV88k9Eg.N23SutnKYamjRq16BT-uVqGosq72qTKUhmCdzfZkTdkg.JPEG.aldksplm%2FScreenshot_20230119_233131_Chrome.jpg&type=ff64_64\n",
      "https://search.pstatic.net/common/?src=http%3A%2F%2Fblogfiles.naver.net%2FMjAyMTA1MDRfMjE0%2FMDAxNjIwMTE1MTk1MTc0.emvmw2vzSucJ-nZBTrsLNfXO4wAdrGSoNrhIgAvtvSMg.34DlWSJ4BkERRGd0RJR3vyuXDnh3Fbjkpy4LACtiG3Ug.PNG.jclove1220%2Fimage.png&type=ff64_64\n",
      "https://search.pstatic.net/common/?src=http%3A%2F%2Fblogfiles.naver.net%2FMjAyMzExMTVfMTE3%2FMDAxNzAwMDI0Njk1Nzky.f6GAKScEnrNr0KxTvq1kQzG6FpkcHdyWt6_WhsgTcr4g.qGouW1Kc_fV7DshLpa6kri29klvN4upxl0XT8jzHAt0g.JPEG.babo4849%2F%25C5%25A9%25C5%25A9%25C5%25A97.jpg&type=ff64_64\n",
      "https://search.pstatic.net/common/?src=http%3A%2F%2Fblogfiles.naver.net%2FMjAyMDA4MjhfMTky%2FMDAxNTk4NTkzMjQ3MjAy.Ahc6fedhtgfZNfHjvEE5hfP4vlQ1N6B0uBtT1gr-piUg.kqO9DSkFxpqZPjFhcGrYP7upzLeX0sU_rEc5qR0DXzgg.JPEG.soljicdog%2F1598593245948.jpg&type=ff64_64\n",
      "https://search.pstatic.net/common/?src=http%3A%2F%2Fblogfiles.naver.net%2FMjAyNDA3MjRfMjA2%2FMDAxNzIxNzk0NjE5Njg1.zEYtVSrFVWxJMF8ytMWfnk0Guy0vGzplWP7-M7XdUDEg.EiqN2LQ9GgooqTq4B9QSYzBuWe6z6UbbwnJ9me4ZRS8g.JPEG%2F%25B4%25D9%25BF%25EE%25B7%25CE%25B5%25E5%25C6%25C4%25C0%25CF%25A3%25DF20240724%25A3%25DF131550.jpg&type=ff64_64\n",
      "https://search.pstatic.net/common/?src=http%3A%2F%2Fblogfiles.naver.net%2F20110110_80%2Fljm2758613_1294657407071W64z4_JPEG%2FIMG_5221.JPG&type=ff64_64\n",
      "https://search.pstatic.net/common/?src=http%3A%2F%2Fblogfiles.naver.net%2FMjAyNDAyMjRfMTA3%2FMDAxNzA4NzUxMTQ3NDU2.4WGkVOTR3m8J7IXTH36_AWwubvs4KYayRD0UwEUd14Qg.bnET1QuV8kfjihpvvUH4eVDFb4_KETaWc4LRd-cMccQg.JPEG%2FIMG_4594.JPG&type=ff64_64\n",
      "https://search.pstatic.net/common/?src=http%3A%2F%2Fblogfiles.naver.net%2FMjAyMzEyMjVfMjkg%2FMDAxNzAzNDk3NTczODk3.2C-7Cqg4gGC8uHKNLkdMu_noTmfKjzkJPmbVnCj2Jv8g.IKRxDtp-3bn1pgmM21os4dIzdOdYittv090KrCKMQvMg.JPEG.hs_sh73%2F1703496525704.jpg&type=ff64_64\n",
      "https://search.pstatic.net/common/?src=http%3A%2F%2Fblogfiles.naver.net%2FMjAyMjA1MTZfMjcg%2FMDAxNjUyNjc2MDk0ODI0.ZaPDyeB7K3gwpuaMmUGrNibJlGl4OdHC_R71njSrWxkg.cNXqK900YNOXyagnQFfte_HScEmpkzpo7xM1g7JRHXQg.JPEG.foodydog%2FIMG_6714.jpg&type=ff64_64\n",
      "https://search.pstatic.net/common/?src=http%3A%2F%2Fblogfiles.naver.net%2FMjAyNDAxMjJfNTUg%2FMDAxNzA1ODkwMTA2NTM0.8IXsgAELYu9GUnggiXCszt6eSOT4vOZV9amfYe2QsqMg.ICD2uZI7W3uC1p2-4NHda6EwHw0-LeabtrE5uz_u2oMg.JPEG.verenation%2F%25B4%25D9%25BF%25EE%25B7%25CE%25B5%25E5%25C6%25C4%25C0%25CF%25A3%25DF20240119%25A3%25DF230046.jpg&type=ff64_64\n"
     ]
    }
   ],
   "source": [
    "for img in image :\n",
    "    if 'data:' not in img.get_attribute('src'):\n",
    "        print(img.get_attribute('src'))"
   ]
  },
  {
   "cell_type": "code",
   "execution_count": 42,
   "id": "7049a12e-5882-42a7-b9bb-cda7a9152053",
   "metadata": {
    "scrolled": true
   },
   "outputs": [
    {
     "name": "stdout",
     "output_type": "stream",
     "text": [
      "https://search.pstatic.net/common/?src=http%3A%2F%2Fblogfiles.naver.net%2FMjAyMjA2MjhfMTE4%2FMDAxNjU2NDAxMTIxNTU1.ZhCzzrAWJTksN6nAa0gT8xGWrZ_2e4Ss9UJD0cUucCUg.ZIx7hVfXNGnMW0RESmDF4dXeDZdG-nQxN-8bpxn02vAg.JPEG.dogcare33%2F4.jpg&type=f54_54\n"
     ]
    }
   ],
   "source": [
    "img_src = image[0].get_attribute('src')\n",
    "print(img_src)"
   ]
  },
  {
   "cell_type": "code",
   "execution_count": 43,
   "id": "00ed8ce5-1a85-4bed-91f0-3a12da9cf697",
   "metadata": {
    "scrolled": true
   },
   "outputs": [
    {
     "data": {
      "text/plain": [
       "['https://search.pstatic.net/common/?src=http%3A%2F%2Fblogfiles.naver.net%2FMjAyMjA2MjhfMTE4%2FMDAxNjU2NDAxMTIxNTU1.ZhCzzrAWJTksN6nAa0gT8xGWrZ_2e4Ss9UJD0cUucCUg.ZIx7hVfXNGnMW0RESmDF4dXeDZdG-nQxN-8bpxn02vAg.JPEG.dogcare33%2F4.jpg&type=f54_54',\n",
       " 'https://search.pstatic.net/common/?src=http%3A%2F%2Fcafefiles.naver.net%2F20130602_52%2Foscuro_13701553879283Wi0X_JPEG%2F1012.JPG&type=f54_54',\n",
       " 'https://search.pstatic.net/common/?src=http%3A%2F%2Fblogfiles.naver.net%2F20140726_154%2Folivepet_14063736813679TugU_JPEG%2F_MG_6136.JPG&type=f54_54',\n",
       " 'https://search.pstatic.net/common/?src=http%3A%2F%2Fblogfiles.naver.net%2FMjAxOTEwMDdfMTAx%2FMDAxNTcwNDQ0OTc5ODM3.xYX9XlAycZXcVCZXSg1f5CM8tcc23Xg6A_R8wTlKDqIg.A4WizqZFcuuID9OR-cPR2Lg_THWDwChRHRhJlXaPb1Ag.JPEG.pet4u1%2F%25BF%25E4%25C5%25A9%25BC%25C5%25BC%25BA%25B0%25DF%25B4%25DC%25B8%25F0.jpg&type=f54_54',\n",
       " 'https://search.pstatic.net/common/?src=http%3A%2F%2Fcafefiles.naver.net%2F20110908_63%2Fstylist0211_1315486747571zrWfQ_jpg%2F1301563418788_stylist0211.jpg&type=f54_54',\n",
       " 'https://search.pstatic.net/common/?src=http%3A%2F%2Fblogfiles.naver.net%2FMjAxOTAxMjhfOTYg%2FMDAxNTQ4NjQ3OTAyNjk0.5gaTndkoommqarKKB1-LOQCmRB2L_rvxCua18GITUC4g.r-rrx_F61Nb62lq66ETPB7O-n6JTUgujDJnueUrQsGog.JPEG.dogsketch%2FDSC_0373s.jpg&type=f54_54',\n",
       " 'https://search.pstatic.net/common/?src=http%3A%2F%2Fblogfiles.naver.net%2F20130730_205%2Fvvovvoj_13751556983969zrSN_JPEG%2F20130727-%25BD%25C4%25BB%25A7%25C0%25CC02.jpg&type=f54_54',\n",
       " 'https://search.pstatic.net/sunny/?src=https%3A%2F%2Fwww.zooseyo.com%2Fpet_care%2Fphoto%2F1424650354_41028700.jpg&type=f54_54',\n",
       " 'https://search.pstatic.net/common/?src=http%3A%2F%2Fcafefiles.naver.net%2F20141020_48%2Fgksxodnr99_1413814744633nuSVx_JPEG%2F1406940922519.jpeg&type=f54_54',\n",
       " 'https://search.pstatic.net/common/?src=http%3A%2F%2Fblogfiles.naver.net%2FMjAyMzA4MDdfMjI4%2FMDAxNjkxMzgwMzYyNjcx.YVqgML91199WAJk7VWI8eHnhRMYW9H_NhYfcwM3WZuIg.XjNunIob8Qt_ctFrTQTu406ty3CgEFEDEx7OZsT9N0Yg.PNG.s22_%2F%25BF%25E4%25C5%25B0%25C0%25CE%25C7%25FC.png&type=f54_54',\n",
       " 'https://search.pstatic.net/common/?src=http%3A%2F%2Fblogfiles.naver.net%2FMjAyMzEwMDFfMTU3%2FMDAxNjk2MTYxNDkxMzky.p6Y7IHMtXjYyU_TDnM6jtKqKkVoUik1A0j3B3AzJIRMg.QVci9XDBYnSq-XC6iA9cge2Ohk10gocnNYm4HLMwwdwg.JPEG.lael_v_v%2F3472506254459744828_20230510203033774.jpg&type=f54_54',\n",
       " 'https://search.pstatic.net/common/?src=http%3A%2F%2Fblogfiles.naver.net%2F20160322_105%2Fimplus01_1458657862342Byq8i_JPEG%2Fwm298709.jpg&type=f54_54',\n",
       " 'https://search.pstatic.net/common/?src=http%3A%2F%2Fblogfiles.naver.net%2FMjAyMjEwMjJfMjA3%2FMDAxNjY2NDI1NDY2OTIx.1zCeUo6kbvV1lHsenYrmARKuJCumIjlLZYVEk9dpzqAg.-iyvae4-JGoJMah7QtT8fTfRies7M3Fz2dxJkc2hbAkg.PNG.hs_sh73%2F%25B4%25D9%25BF%25EE%25B7%25CE%25B5%25E5_%25C6%25C4%25C0%25CF%25A3%25DF20221022165736.png&type=f54_54',\n",
       " 'https://search.pstatic.net/common/?src=http%3A%2F%2Fblogfiles.naver.net%2FMjAxODEwMjRfMjM5%2FMDAxNTQwMzY2NjIwNzY2.GSUvdqles2rhkE7QOGOyJz2VNrZ5Rdva6-ZOJqWNC-Ug.g8WxEXdV7CvDKtYeiooaZ77_5R0H0_4tBSZhwmuYByQg.JPEG.dogmaru00%2F%25BF%25E4%25C5%25A9%25BC%25C5%25C5%25D7%25B8%25AE%25BE%25EE%25B9%25AB%25B7%25E1%25BA%25D0%25BE%25E7_3.jpg&type=f54_54',\n",
       " 'https://search.pstatic.net/common/?src=http%3A%2F%2Fblogfiles.naver.net%2FMjAxOTEyMjNfMjc0%2FMDAxNTc3MTAxMjM1Nzcy.0i_2R1XCCGqly2xZRt46yaRvHrmAbGwB-EmNLcTfRakg.QvQ55Ou6klTp6mBn9qmvaQDkpV24IJfnCGpzYEMr5awg.JPEG.caviare1317%2F10_05_Petcyclopedia.jpg&type=f54_54',\n",
       " 'https://search.pstatic.net/common/?src=http%3A%2F%2Fblogfiles.naver.net%2FMjAxOTEyMjNfMjc0%2FMDAxNTc3MTAxMjM1Nzcy.0i_2R1XCCGqly2xZRt46yaRvHrmAbGwB-EmNLcTfRakg.QvQ55Ou6klTp6mBn9qmvaQDkpV24IJfnCGpzYEMr5awg.JPEG.caviare1317%2F10_05_Petcyclopedia.jpg&type=f54_54',\n",
       " 'https://search.pstatic.net/common/?src=http%3A%2F%2Fblogfiles.naver.net%2FMjAyMzExMTZfMTA5%2FMDAxNzAwMTE2NjMzMDM1.UXZSTLNaevuIkJ1HqN0psluMv8w4ibkbcPxrZI-73nQg.gRFNKCyQNVj0JSXMaVD0zdvM9Oekh7uXMVpVKYapuxcg.JPEG.qbxl7love%2FIMG_7663.JPG&type=ff64_64',\n",
       " 'https://search.pstatic.net/common/?src=http%3A%2F%2Fcafefiles.naver.net%2F20160326_68%2Fdbswl4694_1458997151993Qi153_JPEG%2F740_20150808_235106.jpg&type=ff64_64',\n",
       " 'https://search.pstatic.net/common/?src=http%3A%2F%2Fcafefiles.naver.net%2F20150430_253%2Finnuai_salon_1430387222393uvYB9_JPEG%2FIMG_20150428_024256.jpg&type=ff64_64',\n",
       " 'https://search.pstatic.net/common/?src=http%3A%2F%2Fblogfiles.naver.net%2FMjAyMzExMTBfMTAz%2FMDAxNjk5NjA2MjIwMDU2.m7bxleNOZRC2cvBNlb6S1Hfc2sP9rIDy-WtLc_KC5dAg.I97QKT73j21yHMyEMazO7OrAoPZNv8s5hlfGm-j2C8kg.JPEG.tukdol%2FKakaoTalk_20231110_172524696_02.jpg&type=ff64_64',\n",
       " 'https://search.pstatic.net/common/?src=https%3A%2F%2Fldb-phinf.pstatic.net%2F20240126_156%2F1706264928027Mj6w3_JPEG%2FIMG_7578.jpeg&type=ff64_64',\n",
       " 'https://search.pstatic.net/common/?src=http%3A%2F%2Fblogfiles.naver.net%2FMjAyNDAxMTFfNTIg%2FMDAxNzA0OTc1OTU4MjM5.nVJUDBNAirpYsDLYae4_4XU_r1kvStdDbgAGM23QWgkg.PJpyQq8O-2MmeS7ardmohJ4stbS9nO4LZdPoMiTnjWkg.PNG.luvkki%2Fb04f5dd7-fa75-4a5a-b34e-6171c4da5a1b.png&type=ff64_64',\n",
       " 'https://search.pstatic.net/common/?src=http%3A%2F%2Fblogfiles.naver.net%2FMjAyNDAyMTJfMzEg%2FMDAxNzA3NzI0Njk3NzY0.uH5VppaUdw7loAEeJekt6fKLsokVe4s7sE0VSCJuOEog.bnyFOBFHtE-CgQ4Om026CKWwt4-noEIN2F5MXNYN64cg.JPEG.minjiwhan1004%2F%25B3%25EB%25B8%25AE%25C4%25A1%25C5%25D7%25B8%25AE%25BE%25EE_%25B8%25F0%25B8%25F0_%25B0%25AD%25BE%25C6%25C1%25F6_%25B0%25DF%25C1%25BE_.jpg&type=ff64_64',\n",
       " 'https://search.pstatic.net/common/?src=http%3A%2F%2Fblogfiles.naver.net%2FMjAyMzA5MTJfMjAx%2FMDAxNjk0NDg4NjI4ODM1.oln4DVDeARLwKbUM21CE0LU2IGuBR5zLvmMBNdQBy34g.oKaao5JuO1x9ZnEfUxPl7ZjCMPxAvJ96p3H3piqnEyAg.JPEG.dadog_dadog%2FIMG_1996.JPG&type=ff64_64']"
      ]
     },
     "execution_count": 43,
     "metadata": {},
     "output_type": "execute_result"
    }
   ],
   "source": [
    "image_list = []\n",
    "\n",
    "for i in range(len(image)):\n",
    "    image_list.append(image[i].get_attribute('src'))\n",
    "image_list"
   ]
  },
  {
   "cell_type": "markdown",
   "id": "f65b6585-6729-4549-b315-6d2707be0e6c",
   "metadata": {},
   "source": [
    "## 수집한 이미지경로를 이용해서 폴더 내 파일로 저장하기"
   ]
  },
  {
   "cell_type": "code",
   "execution_count": null,
   "id": "5f0fae3f-083b-4146-a634-f92f6cfc4e3c",
   "metadata": {
    "scrolled": true
   },
   "outputs": [],
   "source": []
  },
  {
   "cell_type": "code",
   "execution_count": 47,
   "id": "0afce0a9-f0ec-421e-bae6-a12592072da2",
   "metadata": {},
   "outputs": [],
   "source": [
    "for i in range(len(image_list)):\n",
    "    urlretrieve(image_list[i], f'./강아지/강아지{i+1}.jpg')"
   ]
  },
  {
   "cell_type": "code",
   "execution_count": null,
   "id": "c0ed2eb6-813a-484b-8a51-4fd3ccaac2f4",
   "metadata": {},
   "outputs": [],
   "source": []
  },
  {
   "cell_type": "code",
   "execution_count": 50,
   "id": "fd31198d-72e9-45fb-99b8-7dde70edbdba",
   "metadata": {},
   "outputs": [
    {
     "name": "stdin",
     "output_type": "stream",
     "text": [
      "네이버에서 수집할 이미지 키워드를 입력해주세요. 먼치킨 고양이\n"
     ]
    },
    {
     "name": "stdout",
     "output_type": "stream",
     "text": [
      "폴더생성완료!\n"
     ]
    }
   ],
   "source": [
    "import time\n",
    "import os # 운영체제 접근 -> 파일/폴더 찾기, 생성, 삭제 기능을 제공하는 라이브러리\n",
    "import pandas as pd\n",
    "\n",
    "from selenium import webdriver as wb\n",
    "from selenium.webdriver.common.by import By.0\n",
    "    print('이미 존재하는 폴더입니다. 다른 이름으로 생성해주세요.')\n",
    "else:\n",
    "    print('폴더생성완료!')\n",
    "    os.mkdir(dir_name)\n",
    "\n",
    "# 이미지 주소 수집 \n",
    "url = f'https://search.naver.com/search.naver?ssc=tab.image.all&where=image&sm=tab_jum&query={dir_name}'\n",
    "driver = wb.Chrome()\n",
    "driver.get(url)\n",
    "\n",
    "time.sleep(1.5)\n",
    "\n",
    "for i in range(5):\n",
    "    driver.find_element(By.TAG_NAME, 'body').send_keys(Keys.END)\n",
    "    time.sleep(1.5)\n",
    "\n",
    "imgs = driver.find_elements(By.CSS_SELECTOR, 'img._fe_image_tab_content_thumbnail_image')\n",
    "\n",
    "src_list = []\n",
    "\n",
    "for img in imgs:\n",
    "    if 'data:' not in img.get_attribute('src'):\n",
    "        src_list.append(img.get_attribute('src'))\n",
    "\n",
    "# 테스트 브라우저 종료\n",
    "driver.quit()\n",
    "\n",
    "# 이미지 파일 저장\n",
    "for i in range(len(src_list)):\n",
    "    urlretrieve(src_list[i], f'./{dir_name}/{dir_name}{i+1}.jpg')"
   ]
  },
  {
   "cell_type": "code",
   "execution_count": null,
   "id": "43da7869-11d5-4994-a716-a50f76f7f753",
   "metadata": {},
   "outputs": [],
   "source": []
  },
  {
   "cell_type": "code",
   "execution_count": null,
   "id": "25bd5d9c-7e64-40ce-8844-a225e868cc3b",
   "metadata": {},
   "outputs": [],
   "source": []
  },
  {
   "cell_type": "code",
   "execution_count": null,
   "id": "de71a81d-3361-4797-9800-13ea4e3e1750",
   "metadata": {},
   "outputs": [],
   "source": []
  },
  {
   "cell_type": "code",
   "execution_count": null,
   "id": "64d8dc83-7962-4d5b-b0e8-760a47e4e098",
   "metadata": {},
   "outputs": [],
   "source": []
  },
  {
   "cell_type": "code",
   "execution_count": null,
   "id": "19e8b5cf-1895-4a34-8a36-58228e084f7f",
   "metadata": {},
   "outputs": [],
   "source": []
  },
  {
   "cell_type": "code",
   "execution_count": null,
   "id": "8cd10022-7a15-4056-b462-363b7e3e9247",
   "metadata": {},
   "outputs": [],
   "source": []
  },
  {
   "cell_type": "code",
   "execution_count": null,
   "id": "5c56778f-f861-4001-b8d7-56e9c3754275",
   "metadata": {},
   "outputs": [],
   "source": []
  },
  {
   "cell_type": "code",
   "execution_count": null,
   "id": "d924075e-82ce-447b-9ca3-401ac42fb46c",
   "metadata": {},
   "outputs": [],
   "source": []
  },
  {
   "cell_type": "code",
   "execution_count": null,
   "id": "55fdb1cc-879f-4224-b1e9-6e52e423243b",
   "metadata": {},
   "outputs": [],
   "source": []
  },
  {
   "cell_type": "code",
   "execution_count": null,
   "id": "991745a7-c13a-40ac-9531-8594557440f0",
   "metadata": {},
   "outputs": [],
   "source": []
  },
  {
   "cell_type": "code",
   "execution_count": null,
   "id": "cf7a5d1a-4d2d-4073-97cd-6e5d258f16f9",
   "metadata": {},
   "outputs": [],
   "source": []
  },
  {
   "cell_type": "code",
   "execution_count": null,
   "id": "4cb5d8fc-eea3-44ea-8e77-a165bdd8c3c5",
   "metadata": {},
   "outputs": [],
   "source": []
  },
  {
   "cell_type": "code",
   "execution_count": null,
   "id": "52c1287b-8c02-4a6e-84d1-8bf6d9a0be35",
   "metadata": {},
   "outputs": [],
   "source": []
  },
  {
   "cell_type": "code",
   "execution_count": null,
   "id": "6d9faef8-3fac-4735-8c4f-b2d1520f1b9d",
   "metadata": {},
   "outputs": [],
   "source": []
  },
  {
   "cell_type": "code",
   "execution_count": null,
   "id": "92e2fe72-1d99-4fe6-8ed4-b9f39d2a9105",
   "metadata": {},
   "outputs": [],
   "source": []
  },
  {
   "cell_type": "code",
   "execution_count": null,
   "id": "e7590dee-6a70-44f0-89a7-abca9f00437c",
   "metadata": {},
   "outputs": [],
   "source": []
  },
  {
   "cell_type": "code",
   "execution_count": null,
   "id": "11558a02-61c6-48b2-b0cd-8a50639442d4",
   "metadata": {},
   "outputs": [],
   "source": []
  },
  {
   "cell_type": "code",
   "execution_count": null,
   "id": "04a241a2-efac-4878-8947-e309ace311fa",
   "metadata": {},
   "outputs": [],
   "source": []
  },
  {
   "cell_type": "code",
   "execution_count": null,
   "id": "27fc5afd-bea5-484c-aee3-e98fc7ade6f4",
   "metadata": {},
   "outputs": [],
   "source": []
  },
  {
   "cell_type": "code",
   "execution_count": null,
   "id": "579c2c88-f54f-4b9a-b9b1-57e0a09c05df",
   "metadata": {},
   "outputs": [],
   "source": []
  },
  {
   "cell_type": "code",
   "execution_count": null,
   "id": "87e5043e-44c7-4aae-89f4-99810bed23f6",
   "metadata": {},
   "outputs": [],
   "source": []
  },
  {
   "cell_type": "code",
   "execution_count": null,
   "id": "d6bf389f-9924-42d5-b29d-e01a9bfefb2e",
   "metadata": {},
   "outputs": [],
   "source": []
  },
  {
   "cell_type": "code",
   "execution_count": null,
   "id": "5fb3e8f0-353c-47ab-a015-f46cf535f279",
   "metadata": {},
   "outputs": [],
   "source": []
  },
  {
   "cell_type": "code",
   "execution_count": null,
   "id": "2095957b-941b-4e3d-9eaf-0feb1cc3aab8",
   "metadata": {},
   "outputs": [],
   "source": []
  },
  {
   "cell_type": "code",
   "execution_count": null,
   "id": "74c897ad-5fba-48b9-8348-02f38a2f96f7",
   "metadata": {},
   "outputs": [],
   "source": []
  },
  {
   "cell_type": "code",
   "execution_count": null,
   "id": "f7a674f3-0bed-401f-8bd1-27094ccfbcd0",
   "metadata": {},
   "outputs": [],
   "source": []
  },
  {
   "cell_type": "code",
   "execution_count": null,
   "id": "2365585c-24ef-4c76-9796-1438631d441a",
   "metadata": {},
   "outputs": [],
   "source": []
  },
  {
   "cell_type": "code",
   "execution_count": null,
   "id": "9dcf2208-1ab7-464a-971a-04ad78a5b626",
   "metadata": {},
   "outputs": [],
   "source": []
  },
  {
   "cell_type": "code",
   "execution_count": null,
   "id": "6a64bceb-b601-4204-9bc8-c556b3766bb6",
   "metadata": {},
   "outputs": [],
   "source": []
  },
  {
   "cell_type": "code",
   "execution_count": null,
   "id": "7af62563-6106-48c9-b4b0-51f4025be2f5",
   "metadata": {},
   "outputs": [],
   "source": []
  },
  {
   "cell_type": "code",
   "execution_count": null,
   "id": "e8d04be4-5cea-43f2-8654-fb8d2d05f103",
   "metadata": {},
   "outputs": [],
   "source": []
  },
  {
   "cell_type": "code",
   "execution_count": null,
   "id": "b62d884c-95ba-4e40-ada0-b60280153af3",
   "metadata": {},
   "outputs": [],
   "source": []
  },
  {
   "cell_type": "code",
   "execution_count": null,
   "id": "d59b99ff-f51a-4a91-81b4-89361e006666",
   "metadata": {},
   "outputs": [],
   "source": []
  },
  {
   "cell_type": "code",
   "execution_count": null,
   "id": "54c1cfd2-5769-4f17-bde7-0b8461bf1a08",
   "metadata": {},
   "outputs": [],
   "source": []
  },
  {
   "cell_type": "code",
   "execution_count": null,
   "id": "0de92eda-765a-41b1-b20b-3c1beecde875",
   "metadata": {},
   "outputs": [],
   "source": []
  },
  {
   "cell_type": "code",
   "execution_count": null,
   "id": "8ea2455a-c472-4652-bf59-ec75614e7284",
   "metadata": {},
   "outputs": [],
   "source": []
  },
  {
   "cell_type": "code",
   "execution_count": null,
   "id": "0d0fc4cb-e6cf-4cef-8f63-daf38434cd17",
   "metadata": {},
   "outputs": [],
   "source": []
  },
  {
   "cell_type": "code",
   "execution_count": null,
   "id": "2320d3b5-579e-424b-b9fd-32dce83eccc2",
   "metadata": {},
   "outputs": [],
   "source": []
  },
  {
   "cell_type": "code",
   "execution_count": null,
   "id": "f74230a5-44f3-4fda-8b68-8d1619141970",
   "metadata": {},
   "outputs": [],
   "source": []
  },
  {
   "cell_type": "code",
   "execution_count": null,
   "id": "a0e8e5bc-d6ee-4990-bfeb-a34c20e71820",
   "metadata": {},
   "outputs": [],
   "source": []
  },
  {
   "cell_type": "code",
   "execution_count": null,
   "id": "f3fda7f0-0a27-46f8-89ae-4d6c77a460ad",
   "metadata": {},
   "outputs": [],
   "source": []
  },
  {
   "cell_type": "code",
   "execution_count": null,
   "id": "4009e8f8-61fa-4b80-8187-e893db83d581",
   "metadata": {},
   "outputs": [],
   "source": []
  },
  {
   "cell_type": "code",
   "execution_count": null,
   "id": "5b2f36d1-1ff8-4e41-bc35-f05b554077b8",
   "metadata": {},
   "outputs": [],
   "source": []
  },
  {
   "cell_type": "code",
   "execution_count": null,
   "id": "5046e363-339a-4e55-8d30-151ee86b59c5",
   "metadata": {},
   "outputs": [],
   "source": []
  }
 ],
 "metadata": {
  "kernelspec": {
   "display_name": "Python 3 (ipykernel)",
   "language": "python",
   "name": "python3"
  },
  "language_info": {
   "codemirror_mode": {
    "name": "ipython",
    "version": 3
   },
   "file_extension": ".py",
   "mimetype": "text/x-python",
   "name": "python",
   "nbconvert_exporter": "python",
   "pygments_lexer": "ipython3",
   "version": "3.11.7"
  }
 },
 "nbformat": 4,
 "nbformat_minor": 5
}
