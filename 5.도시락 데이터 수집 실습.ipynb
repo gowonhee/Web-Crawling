{
 "cells": [
  {
   "cell_type": "code",
   "execution_count": 35,
   "id": "2ecd6346-1ca3-4306-8343-b3df97a303bf",
   "metadata": {},
   "outputs": [],
   "source": [
    "import pandas as pd"
   ]
  },
  {
   "cell_type": "code",
   "execution_count": 1,
   "id": "5e8337be-fecc-4b26-919e-3e4a7c53ab01",
   "metadata": {},
   "outputs": [],
   "source": [
    "# 테스트 브라우저를 실행해주는 역할\n",
    "from selenium import webdriver as wb\n",
    "\n",
    "# 요소를 접근하는 방식을 제공하는 역할\n",
    "from selenium.webdriver.common.by import By\n",
    "\n",
    "# 키보드 입력값을 제공하는 역할\n",
    "from selenium.webdriver.common.keys import Keys"
   ]
  },
  {
   "cell_type": "code",
   "execution_count": 2,
   "id": "0c065579-527b-48cc-8c46-76b41714ea94",
   "metadata": {},
   "outputs": [],
   "source": [
    "driver = wb.Chrome()"
   ]
  },
  {
   "cell_type": "code",
   "execution_count": 12,
   "id": "536b41ca-1748-410f-8a62-0ed5ee06f21e",
   "metadata": {},
   "outputs": [],
   "source": [
    "driver.get('https://www.hsd.co.kr/menu/menu_list')"
   ]
  },
  {
   "cell_type": "markdown",
   "id": "9022305f-0aeb-4936-bbae-c3485eaf706d",
   "metadata": {},
   "source": [
    "#### '더보기' 버튼을 클릭하여 모든 도시락 메뉴가 보이도록 만들어보기!"
   ]
  },
  {
   "cell_type": "code",
   "execution_count": 13,
   "id": "1bcefb12-98f0-475b-b432-d8fff10ed8b4",
   "metadata": {},
   "outputs": [],
   "source": [
    "plus_btn = driver.find_element(By.CLASS_NAME, 'c_05')"
   ]
  },
  {
   "cell_type": "code",
   "execution_count": 14,
   "id": "c31f19f5-15f4-4c65-929e-45813c8e8213",
   "metadata": {},
   "outputs": [],
   "source": [
    "for click in range(4):\n",
    "    plus_btn.click()"
   ]
  },
  {
   "cell_type": "markdown",
   "id": "5ee8605a-cc20-4993-85ef-3545c38bd3b3",
   "metadata": {},
   "source": [
    "#### 도시락 이름, 가격을 수집한 후에 '한솥도시락 목록.xlsx'로 저장해보기!"
   ]
  },
  {
   "cell_type": "code",
   "execution_count": 29,
   "id": "4a468269-dfdc-442b-869a-bc29eae53191",
   "metadata": {},
   "outputs": [
    {
     "name": "stdout",
     "output_type": "stream",
     "text": [
      "불닭 치킨마요\n"
     ]
    }
   ],
   "source": [
    "name = driver.find_elements(By.CSS_SELECTOR, 'h4.h.fz_03')\n",
    "print(name[0].text)"
   ]
  },
  {
   "cell_type": "code",
   "execution_count": 30,
   "id": "6d06bc7e-3e4e-4682-9358-a2f7bc25bff1",
   "metadata": {},
   "outputs": [
    {
     "name": "stdout",
     "output_type": "stream",
     "text": [
      "4,900\n"
     ]
    }
   ],
   "source": [
    "price = driver.find_elements(By.CSS_SELECTOR, 'div.item-price > strong')\n",
    "print(price[0].text)"
   ]
  },
  {
   "cell_type": "code",
   "execution_count": 37,
   "id": "8a286ee5-31ac-473f-8fb4-c846b54c6529",
   "metadata": {},
   "outputs": [],
   "source": [
    "# 제목과 가격 수집\n",
    "name_list = []\n",
    "price_list = []\n",
    "\n",
    "for item in name:\n",
    "    name_list.append(item.text)\n",
    "    \n",
    "for item_price in price:\n",
    "    price_list.append(item_price.text)"
   ]
  },
  {
   "cell_type": "code",
   "execution_count": 41,
   "id": "ca43aaad-fb1a-4f0a-8729-171806753254",
   "metadata": {},
   "outputs": [
    {
     "data": {
      "text/plain": [
       "{'제목': ['불닭 치킨마요',\n",
       "  '불닭 참치마요',\n",
       "  '치킹 반반순살(양념, 후라이드)',\n",
       "  '치킹 반반순살(후라이드)',\n",
       "  '연잎 오리구이',\n",
       "  '열무 감초고추장 비빔밥',\n",
       "  '열무 두부강된장 비빔밥',\n",
       "  '열무 비빔면',\n",
       "  '믹스후라이',\n",
       "  '김피탕',\n",
       "  '빅김피탕',\n",
       "  '사골 조랭이떡 만둣국',\n",
       "  '해바라기',\n",
       "  '매화',\n",
       "  '진달래',\n",
       "  '개나리',\n",
       "  '돈까스도련님 고기고기',\n",
       "  '새치 고기고기',\n",
       "  '돈치 고기고기',\n",
       "  '송정식 떡갈비 Ⅱ',\n",
       "  '제육돈까스 도련님',\n",
       "  '숯불직화구이',\n",
       "  '소불고기',\n",
       "  '메가치킨제육',\n",
       "  '칠리 찹쌀탕수육도련님',\n",
       "  '동백',\n",
       "  '치킨제육',\n",
       "  '돈까스도련님',\n",
       "  '제육볶음',\n",
       "  '돈치스팸',\n",
       "  '송정식 떡갈비',\n",
       "  '제육 김치찌개 정식',\n",
       "  '빅치킨마요 김치 부대찌개 정식',\n",
       "  '치킨마요 김치 부대찌개 정식',\n",
       "  '빅치킨마요 김치찌개 정식',\n",
       "  '치킨마요 김치찌개 정식',\n",
       "  '메가스팸마요',\n",
       "  '스팸마요',\n",
       "  '메가치킨마요',\n",
       "  '왕치킨마요',\n",
       "  '빅치킨마요',\n",
       "  '치킨마요',\n",
       "  '참치마요',\n",
       "  '돈치마요',\n",
       "  '돈까스 카레',\n",
       "  '스팸 김치볶음밥',\n",
       "  '김치볶음밥',\n",
       "  '스팸 철판볶음밥',\n",
       "  '소불고기 철판볶음밥',\n",
       "  '묵은지 김치찌개',\n",
       "  '김치 부대찌개',\n",
       "  '스페셜 하이라이스',\n",
       "  '핫 치즈 닭갈비덮밥',\n",
       "  '오리지널 치즈 닭갈비덮밥',\n",
       "  '숯불직화구이 덮밥',\n",
       "  '마파두부 덮밥',\n",
       "  '왕카레돈까스덮밥',\n",
       "  '새우돈까스 덮밥',\n",
       "  '돈까스 덮밥',\n",
       "  '아보카도 소불고기 명란 비빔밥',\n",
       "  '소불고기 감초고추장 비빔밥',\n",
       "  '시골제육 두부강된장 비빔밥',\n",
       "  '참치야채 감초고추장 비빔밥',\n",
       "  '튼튼도시락',\n",
       "  '반찬 묵은지김치찌개',\n",
       "  '반찬 카레',\n",
       "  '반찬 순살 고등어 간장구이',\n",
       "  '반찬 김치 부대찌개',\n",
       "  '반찬 치킨',\n",
       "  '반찬 고기고기',\n",
       "  '반찬 돈까스도련님',\n",
       "  '반찬 제육볶음',\n",
       "  '반찬 토네이도 소세지',\n",
       "  '반찬 돈까스',\n",
       "  '치즈버터 해시 포테이토 스틱',\n",
       "  '허니버터 해시 포테이토 스틱',\n",
       "  '해시 포테이토 스틱',\n",
       "  '뉴 감자고로케',\n",
       "  '미니 찹쌀핫도그',\n",
       "  '미니 찹쌀탕수육',\n",
       "  '케이준후라이',\n",
       "  '멘치카츠',\n",
       "  '통현미 닭강정(소)',\n",
       "  '통현미 닭강정(중)',\n",
       "  '후라이드 순살(중)',\n",
       "  '후라이드 순살(소)_양념치킨소스',\n",
       "  '후라이드 순살(소)_케이준소스',\n",
       "  '3종 미니반찬B',\n",
       "  '3종 미니반찬A',\n",
       "  '오징어젓갈',\n",
       "  '한솥 두부강된장소스',\n",
       "  '한솥 감초볶음고추장소스',\n",
       "  '볶음김치',\n",
       "  '김치',\n",
       "  '무말랭이 무침',\n",
       "  '한솥밥',\n",
       "  '현미밥',\n",
       "  '리얼꿀 미니호떡'],\n",
       " '가격': ['4,900',\n",
       "  '4,700',\n",
       "  '16,900',\n",
       "  '16,900',\n",
       "  '7,700',\n",
       "  '4,900',\n",
       "  '5,200',\n",
       "  '3,900',\n",
       "  '6,000',\n",
       "  '5,500',\n",
       "  '7,900',\n",
       "  '5,900',\n",
       "  '10,000',\n",
       "  '10,500',\n",
       "  '8,000',\n",
       "  '8,700',\n",
       "  '6,600',\n",
       "  '7,100',\n",
       "  '6,100',\n",
       "  '6,900',\n",
       "  '4,900',\n",
       "  '6,800',\n",
       "  '5,700',\n",
       "  '7,800',\n",
       "  '4,500',\n",
       "  '6,200',\n",
       "  '5,000',\n",
       "  '4,900',\n",
       "  '4,700',\n",
       "  '5,000',\n",
       "  '6,900',\n",
       "  '8,800',\n",
       "  '8,200',\n",
       "  '7,600',\n",
       "  '7,700',\n",
       "  '7,100',\n",
       "  '5,900',\n",
       "  '4,000',\n",
       "  '6,200',\n",
       "  '5,100',\n",
       "  '4,400',\n",
       "  '3,800',\n",
       "  '3,600',\n",
       "  '4,100',\n",
       "  '4,800',\n",
       "  '4,900',\n",
       "  '4,100',\n",
       "  '4,900',\n",
       "  '5,100',\n",
       "  '5,000',\n",
       "  '6,100',\n",
       "  '5,900',\n",
       "  '6,100',\n",
       "  '6,100',\n",
       "  '6,000',\n",
       "  '5,000',\n",
       "  '6,100',\n",
       "  '4,400',\n",
       "  '4,300',\n",
       "  '6,700',\n",
       "  '5,700',\n",
       "  '5,500',\n",
       "  '3,800',\n",
       "  '5,300',\n",
       "  '4,400',\n",
       "  '2,900',\n",
       "  '3,900',\n",
       "  '4,900',\n",
       "  '3,800',\n",
       "  '3,600',\n",
       "  '4,100',\n",
       "  '3,500',\n",
       "  '3,200',\n",
       "  '2,900',\n",
       "  '2,200',\n",
       "  '2,200',\n",
       "  '2,000',\n",
       "  '2,700',\n",
       "  '2,800',\n",
       "  '2,300',\n",
       "  '1,900',\n",
       "  '2,800',\n",
       "  '3,500',\n",
       "  '8,500',\n",
       "  '7,500',\n",
       "  '4,000',\n",
       "  '4,000',\n",
       "  '1,300',\n",
       "  '1,300',\n",
       "  '600',\n",
       "  '1,800',\n",
       "  '500',\n",
       "  '500',\n",
       "  '400',\n",
       "  '500',\n",
       "  '1,000',\n",
       "  '1,700',\n",
       "  '2,200']}"
      ]
     },
     "execution_count": 41,
     "metadata": {},
     "output_type": "execute_result"
    }
   ],
   "source": [
    "# 엑셀 형태로 저장까지 할 것!\n",
    "# pandas가 필요하므로 import 먼저 진행\n",
    "\n",
    "item_dic = {'제목':name_list, '가격':price_list}\n",
    "item_dic"
   ]
  },
  {
   "cell_type": "code",
   "execution_count": 39,
   "id": "c75cea53-1dbd-423d-ad55-6b7e08ed3b01",
   "metadata": {},
   "outputs": [
    {
     "data": {
      "text/html": [
       "<div>\n",
       "<style scoped>\n",
       "    .dataframe tbody tr th:only-of-type {\n",
       "        vertical-align: middle;\n",
       "    }\n",
       "\n",
       "    .dataframe tbody tr th {\n",
       "        vertical-align: top;\n",
       "    }\n",
       "\n",
       "    .dataframe thead th {\n",
       "        text-align: right;\n",
       "    }\n",
       "</style>\n",
       "<table border=\"1\" class=\"dataframe\">\n",
       "  <thead>\n",
       "    <tr style=\"text-align: right;\">\n",
       "      <th></th>\n",
       "      <th>제목</th>\n",
       "      <th>가격</th>\n",
       "    </tr>\n",
       "  </thead>\n",
       "  <tbody>\n",
       "    <tr>\n",
       "      <th>0</th>\n",
       "      <td>불닭 치킨마요</td>\n",
       "      <td>4,900</td>\n",
       "    </tr>\n",
       "    <tr>\n",
       "      <th>1</th>\n",
       "      <td>불닭 참치마요</td>\n",
       "      <td>4,700</td>\n",
       "    </tr>\n",
       "    <tr>\n",
       "      <th>2</th>\n",
       "      <td>치킹 반반순살(양념, 후라이드)</td>\n",
       "      <td>16,900</td>\n",
       "    </tr>\n",
       "    <tr>\n",
       "      <th>3</th>\n",
       "      <td>치킹 반반순살(후라이드)</td>\n",
       "      <td>16,900</td>\n",
       "    </tr>\n",
       "    <tr>\n",
       "      <th>4</th>\n",
       "      <td>연잎 오리구이</td>\n",
       "      <td>7,700</td>\n",
       "    </tr>\n",
       "    <tr>\n",
       "      <th>...</th>\n",
       "      <td>...</td>\n",
       "      <td>...</td>\n",
       "    </tr>\n",
       "    <tr>\n",
       "      <th>93</th>\n",
       "      <td>김치</td>\n",
       "      <td>400</td>\n",
       "    </tr>\n",
       "    <tr>\n",
       "      <th>94</th>\n",
       "      <td>무말랭이 무침</td>\n",
       "      <td>500</td>\n",
       "    </tr>\n",
       "    <tr>\n",
       "      <th>95</th>\n",
       "      <td>한솥밥</td>\n",
       "      <td>1,000</td>\n",
       "    </tr>\n",
       "    <tr>\n",
       "      <th>96</th>\n",
       "      <td>현미밥</td>\n",
       "      <td>1,700</td>\n",
       "    </tr>\n",
       "    <tr>\n",
       "      <th>97</th>\n",
       "      <td>리얼꿀 미니호떡</td>\n",
       "      <td>2,200</td>\n",
       "    </tr>\n",
       "  </tbody>\n",
       "</table>\n",
       "<p>98 rows × 2 columns</p>\n",
       "</div>"
      ],
      "text/plain": [
       "                   제목      가격\n",
       "0             불닭 치킨마요   4,900\n",
       "1             불닭 참치마요   4,700\n",
       "2   치킹 반반순살(양념, 후라이드)  16,900\n",
       "3       치킹 반반순살(후라이드)  16,900\n",
       "4             연잎 오리구이   7,700\n",
       "..                ...     ...\n",
       "93                 김치     400\n",
       "94            무말랭이 무침     500\n",
       "95                한솥밥   1,000\n",
       "96                현미밥   1,700\n",
       "97           리얼꿀 미니호떡   2,200\n",
       "\n",
       "[98 rows x 2 columns]"
      ]
     },
     "execution_count": 39,
     "metadata": {},
     "output_type": "execute_result"
    }
   ],
   "source": [
    "item_df = pd.DataFrame(item_dic)\n",
    "item_df"
   ]
  },
  {
   "cell_type": "code",
   "execution_count": 40,
   "id": "9b21e1a3-45ef-4edd-92b6-cb5b7073f621",
   "metadata": {},
   "outputs": [],
   "source": [
    "item_df.to_excel('한솥도시락.xlsx', index=False)"
   ]
  },
  {
   "cell_type": "code",
   "execution_count": null,
   "id": "c2c1f7f1-c09e-47a2-bec5-4fff5da33872",
   "metadata": {},
   "outputs": [],
   "source": []
  },
  {
   "cell_type": "code",
   "execution_count": null,
   "id": "030ecc41-d000-431d-9125-2e4d41a808b1",
   "metadata": {},
   "outputs": [],
   "source": []
  },
  {
   "cell_type": "code",
   "execution_count": null,
   "id": "60562223-42ce-4fa2-805b-ab9e66c57069",
   "metadata": {},
   "outputs": [],
   "source": []
  },
  {
   "cell_type": "code",
   "execution_count": null,
   "id": "4f434035-b232-40bd-a066-8394cd8a82fc",
   "metadata": {},
   "outputs": [],
   "source": []
  },
  {
   "cell_type": "code",
   "execution_count": null,
   "id": "9681bc00-50d2-4526-9156-d45131fd1c4d",
   "metadata": {},
   "outputs": [],
   "source": []
  },
  {
   "cell_type": "code",
   "execution_count": null,
   "id": "4ac2f85d-dc15-456e-8ca2-e45f764a79c8",
   "metadata": {},
   "outputs": [],
   "source": []
  },
  {
   "cell_type": "code",
   "execution_count": null,
   "id": "c27de707-5ea7-43f5-bfd2-c02bf053e26e",
   "metadata": {},
   "outputs": [],
   "source": []
  },
  {
   "cell_type": "code",
   "execution_count": null,
   "id": "cb1efd97-1870-4d2e-926c-7bcdbd9c6154",
   "metadata": {},
   "outputs": [],
   "source": []
  },
  {
   "cell_type": "code",
   "execution_count": null,
   "id": "5845b716-82b7-43c6-99b7-b8101ca69c20",
   "metadata": {},
   "outputs": [],
   "source": []
  },
  {
   "cell_type": "code",
   "execution_count": null,
   "id": "fea6c0a7-9c79-45a3-95d9-d3031b6d520e",
   "metadata": {},
   "outputs": [],
   "source": []
  },
  {
   "cell_type": "code",
   "execution_count": null,
   "id": "ae5041d7-3f05-4e4e-bdfc-4f635d4ea797",
   "metadata": {},
   "outputs": [],
   "source": []
  },
  {
   "cell_type": "code",
   "execution_count": null,
   "id": "dec0b0a9-ba24-4c08-b9a6-e5e3c1efdcfd",
   "metadata": {},
   "outputs": [],
   "source": []
  },
  {
   "cell_type": "code",
   "execution_count": null,
   "id": "c27645f4-987e-4707-85e3-6de6d6c29056",
   "metadata": {},
   "outputs": [],
   "source": []
  },
  {
   "cell_type": "code",
   "execution_count": null,
   "id": "d61afad3-28cf-43c9-867e-ff0e1d138ef3",
   "metadata": {},
   "outputs": [],
   "source": []
  },
  {
   "cell_type": "code",
   "execution_count": null,
   "id": "420e4baa-de45-47f3-8c95-66d37dc9df8c",
   "metadata": {},
   "outputs": [],
   "source": []
  },
  {
   "cell_type": "code",
   "execution_count": null,
   "id": "d366fb0c-f22e-41dd-8bc1-e0ac07ed5e38",
   "metadata": {},
   "outputs": [],
   "source": []
  },
  {
   "cell_type": "code",
   "execution_count": null,
   "id": "3b572cc3-f94e-42df-bf63-67c025b50a9a",
   "metadata": {},
   "outputs": [],
   "source": []
  }
 ],
 "metadata": {
  "kernelspec": {
   "display_name": "Python 3 (ipykernel)",
   "language": "python",
   "name": "python3"
  },
  "language_info": {
   "codemirror_mode": {
    "name": "ipython",
    "version": 3
   },
   "file_extension": ".py",
   "mimetype": "text/x-python",
   "name": "python",
   "nbconvert_exporter": "python",
   "pygments_lexer": "ipython3",
   "version": "3.11.7"
  }
 },
 "nbformat": 4,
 "nbformat_minor": 5
}
