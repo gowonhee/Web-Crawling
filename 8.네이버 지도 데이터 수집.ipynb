{
 "cells": [
  {
   "cell_type": "code",
   "execution_count": 2,
   "id": "24f82390-37a0-4875-b0be-8571890088db",
   "metadata": {},
   "outputs": [],
   "source": [
    "import time\n",
    "import pandas as pd\n",
    "\n",
    "from selenium import webdriver as wb\n",
    "from selenium.webdriver.common.by import By \n",
    "from selenium.webdriver.common.keys import Keys"
   ]
  },
  {
   "cell_type": "code",
   "execution_count": 5,
   "id": "cbfa7ce1-aacb-4e39-b1eb-efd7250542d8",
   "metadata": {},
   "outputs": [],
   "source": [
    "driver = wb.Chrome()"
   ]
  },
  {
   "cell_type": "code",
   "execution_count": 6,
   "id": "b4190826-e8af-4c3e-a5df-54eb7ef07296",
   "metadata": {},
   "outputs": [],
   "source": [
    "naver_map_url = 'https://map.naver.com/p?c=15.00,0,0,0,dh'\n",
    "driver.get(naver_map_url)"
   ]
  },
  {
   "cell_type": "code",
   "execution_count": 4,
   "id": "5b8958f1-a65b-4475-928d-2edaabdbe943",
   "metadata": {},
   "outputs": [],
   "source": [
    "# 1. 검색창에 '광주 동명동 맛집' 키워드를 보낸 후 Enter\n",
    "# 2. 조회된 맛집목록 수집\n",
    "# 3. 반복문을 활용해서 맛집목록을 하나씩 클릭\n",
    "# 4. 클릭했을 때 보여지는 맛집 상세정보 화면에서 가게명, 주소, 전화번호 수집"
   ]
  },
  {
   "cell_type": "code",
   "execution_count": 5,
   "id": "b1103e09-3590-40e9-bde4-8a0dd3591128",
   "metadata": {},
   "outputs": [],
   "source": [
    "search_input = driver.find_element(By.CLASS_NAME, 'input_search')"
   ]
  },
  {
   "cell_type": "code",
   "execution_count": 6,
   "id": "30dc6e9c-c433-47cf-a3ef-9c5d0d326533",
   "metadata": {},
   "outputs": [],
   "source": [
    "search_input.send_keys('광주 동명동 맛집\\n')"
   ]
  },
  {
   "cell_type": "code",
   "execution_count": 11,
   "id": "8f630416-4fc7-48ad-bf93-4e8f1850397f",
   "metadata": {},
   "outputs": [
    {
     "data": {
      "text/plain": [
       "0"
      ]
     },
     "execution_count": 11,
     "metadata": {},
     "output_type": "execute_result"
    }
   ],
   "source": [
    "f_stores = driver.find_elements(By.CLASS_NAME, 'TYaxT')\n",
    "len(f_stores)"
   ]
  },
  {
   "cell_type": "code",
   "execution_count": 7,
   "id": "16542a95-18f6-4fb9-a2e0-47c636b4a974",
   "metadata": {
    "scrolled": true
   },
   "outputs": [
    {
     "ename": "NoSuchFrameException",
     "evalue": "Message: searchIframe\n",
     "output_type": "error",
     "traceback": [
      "\u001b[1;31m---------------------------------------------------------------------------\u001b[0m",
      "\u001b[1;31mNoSuchElementException\u001b[0m                    Traceback (most recent call last)",
      "File \u001b[1;32m~\\anaconda3\\Lib\\site-packages\\selenium\\webdriver\\remote\\switch_to.py:88\u001b[0m, in \u001b[0;36mSwitchTo.frame\u001b[1;34m(self, frame_reference)\u001b[0m\n\u001b[0;32m     87\u001b[0m \u001b[38;5;28;01mtry\u001b[39;00m:\n\u001b[1;32m---> 88\u001b[0m     frame_reference \u001b[38;5;241m=\u001b[39m \u001b[38;5;28mself\u001b[39m\u001b[38;5;241m.\u001b[39m_driver\u001b[38;5;241m.\u001b[39mfind_element(By\u001b[38;5;241m.\u001b[39mID, frame_reference)\n\u001b[0;32m     89\u001b[0m \u001b[38;5;28;01mexcept\u001b[39;00m NoSuchElementException:\n",
      "File \u001b[1;32m~\\anaconda3\\Lib\\site-packages\\selenium\\webdriver\\remote\\webdriver.py:748\u001b[0m, in \u001b[0;36mWebDriver.find_element\u001b[1;34m(self, by, value)\u001b[0m\n\u001b[0;32m    746\u001b[0m     value \u001b[38;5;241m=\u001b[39m \u001b[38;5;124mf\u001b[39m\u001b[38;5;124m'\u001b[39m\u001b[38;5;124m[name=\u001b[39m\u001b[38;5;124m\"\u001b[39m\u001b[38;5;132;01m{\u001b[39;00mvalue\u001b[38;5;132;01m}\u001b[39;00m\u001b[38;5;124m\"\u001b[39m\u001b[38;5;124m]\u001b[39m\u001b[38;5;124m'\u001b[39m\n\u001b[1;32m--> 748\u001b[0m \u001b[38;5;28;01mreturn\u001b[39;00m \u001b[38;5;28mself\u001b[39m\u001b[38;5;241m.\u001b[39mexecute(Command\u001b[38;5;241m.\u001b[39mFIND_ELEMENT, {\u001b[38;5;124m\"\u001b[39m\u001b[38;5;124musing\u001b[39m\u001b[38;5;124m\"\u001b[39m: by, \u001b[38;5;124m\"\u001b[39m\u001b[38;5;124mvalue\u001b[39m\u001b[38;5;124m\"\u001b[39m: value})[\u001b[38;5;124m\"\u001b[39m\u001b[38;5;124mvalue\u001b[39m\u001b[38;5;124m\"\u001b[39m]\n",
      "File \u001b[1;32m~\\anaconda3\\Lib\\site-packages\\selenium\\webdriver\\remote\\webdriver.py:354\u001b[0m, in \u001b[0;36mWebDriver.execute\u001b[1;34m(self, driver_command, params)\u001b[0m\n\u001b[0;32m    353\u001b[0m \u001b[38;5;28;01mif\u001b[39;00m response:\n\u001b[1;32m--> 354\u001b[0m     \u001b[38;5;28mself\u001b[39m\u001b[38;5;241m.\u001b[39merror_handler\u001b[38;5;241m.\u001b[39mcheck_response(response)\n\u001b[0;32m    355\u001b[0m     response[\u001b[38;5;124m\"\u001b[39m\u001b[38;5;124mvalue\u001b[39m\u001b[38;5;124m\"\u001b[39m] \u001b[38;5;241m=\u001b[39m \u001b[38;5;28mself\u001b[39m\u001b[38;5;241m.\u001b[39m_unwrap_value(response\u001b[38;5;241m.\u001b[39mget(\u001b[38;5;124m\"\u001b[39m\u001b[38;5;124mvalue\u001b[39m\u001b[38;5;124m\"\u001b[39m, \u001b[38;5;28;01mNone\u001b[39;00m))\n",
      "File \u001b[1;32m~\\anaconda3\\Lib\\site-packages\\selenium\\webdriver\\remote\\errorhandler.py:229\u001b[0m, in \u001b[0;36mErrorHandler.check_response\u001b[1;34m(self, response)\u001b[0m\n\u001b[0;32m    228\u001b[0m     \u001b[38;5;28;01mraise\u001b[39;00m exception_class(message, screen, stacktrace, alert_text)  \u001b[38;5;66;03m# type: ignore[call-arg]  # mypy is not smart enough here\u001b[39;00m\n\u001b[1;32m--> 229\u001b[0m \u001b[38;5;28;01mraise\u001b[39;00m exception_class(message, screen, stacktrace)\n",
      "\u001b[1;31mNoSuchElementException\u001b[0m: Message: no such element: Unable to locate element: {\"method\":\"css selector\",\"selector\":\"[id=\"searchIframe\"]\"}\n  (Session info: chrome=129.0.6668.70); For documentation on this error, please visit: https://www.selenium.dev/documentation/webdriver/troubleshooting/errors#no-such-element-exception\nStacktrace:\n\tGetHandleVerifier [0x00007FF6745AB645+29573]\n\t(No symbol) [0x00007FF674520470]\n\t(No symbol) [0x00007FF6743DB6EA]\n\t(No symbol) [0x00007FF67442F815]\n\t(No symbol) [0x00007FF67442FA6C]\n\t(No symbol) [0x00007FF67447B917]\n\t(No symbol) [0x00007FF67445733F]\n\t(No symbol) [0x00007FF6744786BC]\n\t(No symbol) [0x00007FF6744570A3]\n\t(No symbol) [0x00007FF6744212DF]\n\t(No symbol) [0x00007FF674422441]\n\tGetHandleVerifier [0x00007FF6748DC58D+3375821]\n\tGetHandleVerifier [0x00007FF674927987+3684039]\n\tGetHandleVerifier [0x00007FF67491CDAB+3640043]\n\tGetHandleVerifier [0x00007FF67466B7C6+816390]\n\t(No symbol) [0x00007FF67452B77F]\n\t(No symbol) [0x00007FF6745275A4]\n\t(No symbol) [0x00007FF674527740]\n\t(No symbol) [0x00007FF67451659F]\n\tBaseThreadInitThunk [0x00007FFC8D507614+20]\n\tRtlUserThreadStart [0x00007FFC8DE826A1+33]\n",
      "\nDuring handling of the above exception, another exception occurred:\n",
      "\u001b[1;31mNoSuchElementException\u001b[0m                    Traceback (most recent call last)",
      "File \u001b[1;32m~\\anaconda3\\Lib\\site-packages\\selenium\\webdriver\\remote\\switch_to.py:91\u001b[0m, in \u001b[0;36mSwitchTo.frame\u001b[1;34m(self, frame_reference)\u001b[0m\n\u001b[0;32m     90\u001b[0m \u001b[38;5;28;01mtry\u001b[39;00m:\n\u001b[1;32m---> 91\u001b[0m     frame_reference \u001b[38;5;241m=\u001b[39m \u001b[38;5;28mself\u001b[39m\u001b[38;5;241m.\u001b[39m_driver\u001b[38;5;241m.\u001b[39mfind_element(By\u001b[38;5;241m.\u001b[39mNAME, frame_reference)\n\u001b[0;32m     92\u001b[0m \u001b[38;5;28;01mexcept\u001b[39;00m NoSuchElementException \u001b[38;5;28;01mas\u001b[39;00m exc:\n",
      "File \u001b[1;32m~\\anaconda3\\Lib\\site-packages\\selenium\\webdriver\\remote\\webdriver.py:748\u001b[0m, in \u001b[0;36mWebDriver.find_element\u001b[1;34m(self, by, value)\u001b[0m\n\u001b[0;32m    746\u001b[0m     value \u001b[38;5;241m=\u001b[39m \u001b[38;5;124mf\u001b[39m\u001b[38;5;124m'\u001b[39m\u001b[38;5;124m[name=\u001b[39m\u001b[38;5;124m\"\u001b[39m\u001b[38;5;132;01m{\u001b[39;00mvalue\u001b[38;5;132;01m}\u001b[39;00m\u001b[38;5;124m\"\u001b[39m\u001b[38;5;124m]\u001b[39m\u001b[38;5;124m'\u001b[39m\n\u001b[1;32m--> 748\u001b[0m \u001b[38;5;28;01mreturn\u001b[39;00m \u001b[38;5;28mself\u001b[39m\u001b[38;5;241m.\u001b[39mexecute(Command\u001b[38;5;241m.\u001b[39mFIND_ELEMENT, {\u001b[38;5;124m\"\u001b[39m\u001b[38;5;124musing\u001b[39m\u001b[38;5;124m\"\u001b[39m: by, \u001b[38;5;124m\"\u001b[39m\u001b[38;5;124mvalue\u001b[39m\u001b[38;5;124m\"\u001b[39m: value})[\u001b[38;5;124m\"\u001b[39m\u001b[38;5;124mvalue\u001b[39m\u001b[38;5;124m\"\u001b[39m]\n",
      "File \u001b[1;32m~\\anaconda3\\Lib\\site-packages\\selenium\\webdriver\\remote\\webdriver.py:354\u001b[0m, in \u001b[0;36mWebDriver.execute\u001b[1;34m(self, driver_command, params)\u001b[0m\n\u001b[0;32m    353\u001b[0m \u001b[38;5;28;01mif\u001b[39;00m response:\n\u001b[1;32m--> 354\u001b[0m     \u001b[38;5;28mself\u001b[39m\u001b[38;5;241m.\u001b[39merror_handler\u001b[38;5;241m.\u001b[39mcheck_response(response)\n\u001b[0;32m    355\u001b[0m     response[\u001b[38;5;124m\"\u001b[39m\u001b[38;5;124mvalue\u001b[39m\u001b[38;5;124m\"\u001b[39m] \u001b[38;5;241m=\u001b[39m \u001b[38;5;28mself\u001b[39m\u001b[38;5;241m.\u001b[39m_unwrap_value(response\u001b[38;5;241m.\u001b[39mget(\u001b[38;5;124m\"\u001b[39m\u001b[38;5;124mvalue\u001b[39m\u001b[38;5;124m\"\u001b[39m, \u001b[38;5;28;01mNone\u001b[39;00m))\n",
      "File \u001b[1;32m~\\anaconda3\\Lib\\site-packages\\selenium\\webdriver\\remote\\errorhandler.py:229\u001b[0m, in \u001b[0;36mErrorHandler.check_response\u001b[1;34m(self, response)\u001b[0m\n\u001b[0;32m    228\u001b[0m     \u001b[38;5;28;01mraise\u001b[39;00m exception_class(message, screen, stacktrace, alert_text)  \u001b[38;5;66;03m# type: ignore[call-arg]  # mypy is not smart enough here\u001b[39;00m\n\u001b[1;32m--> 229\u001b[0m \u001b[38;5;28;01mraise\u001b[39;00m exception_class(message, screen, stacktrace)\n",
      "\u001b[1;31mNoSuchElementException\u001b[0m: Message: no such element: Unable to locate element: {\"method\":\"css selector\",\"selector\":\"[name=\"searchIframe\"]\"}\n  (Session info: chrome=129.0.6668.70); For documentation on this error, please visit: https://www.selenium.dev/documentation/webdriver/troubleshooting/errors#no-such-element-exception\nStacktrace:\n\tGetHandleVerifier [0x00007FF6745AB645+29573]\n\t(No symbol) [0x00007FF674520470]\n\t(No symbol) [0x00007FF6743DB6EA]\n\t(No symbol) [0x00007FF67442F815]\n\t(No symbol) [0x00007FF67442FA6C]\n\t(No symbol) [0x00007FF67447B917]\n\t(No symbol) [0x00007FF67445733F]\n\t(No symbol) [0x00007FF6744786BC]\n\t(No symbol) [0x00007FF6744570A3]\n\t(No symbol) [0x00007FF6744212DF]\n\t(No symbol) [0x00007FF674422441]\n\tGetHandleVerifier [0x00007FF6748DC58D+3375821]\n\tGetHandleVerifier [0x00007FF674927987+3684039]\n\tGetHandleVerifier [0x00007FF67491CDAB+3640043]\n\tGetHandleVerifier [0x00007FF67466B7C6+816390]\n\t(No symbol) [0x00007FF67452B77F]\n\t(No symbol) [0x00007FF6745275A4]\n\t(No symbol) [0x00007FF674527740]\n\t(No symbol) [0x00007FF67451659F]\n\tBaseThreadInitThunk [0x00007FFC8D507614+20]\n\tRtlUserThreadStart [0x00007FFC8DE826A1+33]\n",
      "\nThe above exception was the direct cause of the following exception:\n",
      "\u001b[1;31mNoSuchFrameException\u001b[0m                      Traceback (most recent call last)",
      "Cell \u001b[1;32mIn[7], line 3\u001b[0m\n\u001b[0;32m      1\u001b[0m \u001b[38;5;66;03m# iframe 창 전환하는 방법\u001b[39;00m\n\u001b[0;32m      2\u001b[0m \u001b[38;5;66;03m# - iframe의 id 값을 frame() 인자로 넘기기\u001b[39;00m\n\u001b[1;32m----> 3\u001b[0m driver\u001b[38;5;241m.\u001b[39mswitch_to\u001b[38;5;241m.\u001b[39mframe(\u001b[38;5;124m'\u001b[39m\u001b[38;5;124msearchIframe\u001b[39m\u001b[38;5;124m'\u001b[39m)\n",
      "File \u001b[1;32m~\\anaconda3\\Lib\\site-packages\\selenium\\webdriver\\remote\\switch_to.py:93\u001b[0m, in \u001b[0;36mSwitchTo.frame\u001b[1;34m(self, frame_reference)\u001b[0m\n\u001b[0;32m     91\u001b[0m             frame_reference \u001b[38;5;241m=\u001b[39m \u001b[38;5;28mself\u001b[39m\u001b[38;5;241m.\u001b[39m_driver\u001b[38;5;241m.\u001b[39mfind_element(By\u001b[38;5;241m.\u001b[39mNAME, frame_reference)\n\u001b[0;32m     92\u001b[0m         \u001b[38;5;28;01mexcept\u001b[39;00m NoSuchElementException \u001b[38;5;28;01mas\u001b[39;00m exc:\n\u001b[1;32m---> 93\u001b[0m             \u001b[38;5;28;01mraise\u001b[39;00m NoSuchFrameException(frame_reference) \u001b[38;5;28;01mfrom\u001b[39;00m \u001b[38;5;21;01mexc\u001b[39;00m\n\u001b[0;32m     95\u001b[0m \u001b[38;5;28mself\u001b[39m\u001b[38;5;241m.\u001b[39m_driver\u001b[38;5;241m.\u001b[39mexecute(Command\u001b[38;5;241m.\u001b[39mSWITCH_TO_FRAME, {\u001b[38;5;124m\"\u001b[39m\u001b[38;5;124mid\u001b[39m\u001b[38;5;124m\"\u001b[39m: frame_reference})\n",
      "\u001b[1;31mNoSuchFrameException\u001b[0m: Message: searchIframe\n"
     ]
    }
   ],
   "source": [
    "# iframe 창 전환하는 방법\n",
    "# - iframe의 id 값을 frame() 인자로 넘기기\n",
    "driver.switch_to.frame('searchIframe')"
   ]
  },
  {
   "cell_type": "code",
   "execution_count": 14,
   "id": "97e719ba-2aec-42ef-80f3-787623c4b404",
   "metadata": {},
   "outputs": [
    {
     "data": {
      "text/plain": [
       "10"
      ]
     },
     "execution_count": 14,
     "metadata": {},
     "output_type": "execute_result"
    }
   ],
   "source": [
    "f_stores = driver.find_elements(By.CLASS_NAME, 'tzwk0')\n",
    "len(f_stores)"
   ]
  },
  {
   "cell_type": "code",
   "execution_count": 15,
   "id": "df250c0c-2f8b-4165-bc24-4a9ced5b38a3",
   "metadata": {},
   "outputs": [
    {
     "data": {
      "text/plain": [
       "'쭈꾸미잡스\\n예약\\n톡톡\\n육류,고기요리'"
      ]
     },
     "execution_count": 15,
     "metadata": {},
     "output_type": "execute_result"
    }
   ],
   "source": [
    "f_stores[0].text"
   ]
  },
  {
   "cell_type": "code",
   "execution_count": 16,
   "id": "49754275-82b2-460c-8c0d-d22f802c1123",
   "metadata": {},
   "outputs": [],
   "source": [
    "f_stores[0].click()"
   ]
  },
  {
   "cell_type": "code",
   "execution_count": 17,
   "id": "d56e7396-311a-466e-af78-79e70d2b08af",
   "metadata": {},
   "outputs": [],
   "source": [
    "for i in range(len(f_stores)):\n",
    "    f_stores[i].click()\n",
    "    time.sleep(2)"
   ]
  },
  {
   "cell_type": "code",
   "execution_count": 18,
   "id": "9bb0d4cb-6f36-49c7-bca5-b13b814e02ff",
   "metadata": {},
   "outputs": [],
   "source": [
    "# 이전 창으로 되돌아가는 방법\n",
    "# 현재 : driver는 searchIframe을 가리킨 상태\n",
    "# 이전창으로 돌아가면 네이버지도 메인페이지를 가리킨다.\n",
    "driver.switch_to.default_content()"
   ]
  },
  {
   "cell_type": "code",
   "execution_count": 8,
   "id": "7e67cbe6-88a8-4344-a7a7-af2ce02026cd",
   "metadata": {},
   "outputs": [
    {
     "ename": "NoSuchFrameException",
     "evalue": "Message: entryIframe\n",
     "output_type": "error",
     "traceback": [
      "\u001b[1;31m---------------------------------------------------------------------------\u001b[0m",
      "\u001b[1;31mNoSuchElementException\u001b[0m                    Traceback (most recent call last)",
      "File \u001b[1;32m~\\anaconda3\\Lib\\site-packages\\selenium\\webdriver\\remote\\switch_to.py:88\u001b[0m, in \u001b[0;36mSwitchTo.frame\u001b[1;34m(self, frame_reference)\u001b[0m\n\u001b[0;32m     87\u001b[0m \u001b[38;5;28;01mtry\u001b[39;00m:\n\u001b[1;32m---> 88\u001b[0m     frame_reference \u001b[38;5;241m=\u001b[39m \u001b[38;5;28mself\u001b[39m\u001b[38;5;241m.\u001b[39m_driver\u001b[38;5;241m.\u001b[39mfind_element(By\u001b[38;5;241m.\u001b[39mID, frame_reference)\n\u001b[0;32m     89\u001b[0m \u001b[38;5;28;01mexcept\u001b[39;00m NoSuchElementException:\n",
      "File \u001b[1;32m~\\anaconda3\\Lib\\site-packages\\selenium\\webdriver\\remote\\webdriver.py:748\u001b[0m, in \u001b[0;36mWebDriver.find_element\u001b[1;34m(self, by, value)\u001b[0m\n\u001b[0;32m    746\u001b[0m     value \u001b[38;5;241m=\u001b[39m \u001b[38;5;124mf\u001b[39m\u001b[38;5;124m'\u001b[39m\u001b[38;5;124m[name=\u001b[39m\u001b[38;5;124m\"\u001b[39m\u001b[38;5;132;01m{\u001b[39;00mvalue\u001b[38;5;132;01m}\u001b[39;00m\u001b[38;5;124m\"\u001b[39m\u001b[38;5;124m]\u001b[39m\u001b[38;5;124m'\u001b[39m\n\u001b[1;32m--> 748\u001b[0m \u001b[38;5;28;01mreturn\u001b[39;00m \u001b[38;5;28mself\u001b[39m\u001b[38;5;241m.\u001b[39mexecute(Command\u001b[38;5;241m.\u001b[39mFIND_ELEMENT, {\u001b[38;5;124m\"\u001b[39m\u001b[38;5;124musing\u001b[39m\u001b[38;5;124m\"\u001b[39m: by, \u001b[38;5;124m\"\u001b[39m\u001b[38;5;124mvalue\u001b[39m\u001b[38;5;124m\"\u001b[39m: value})[\u001b[38;5;124m\"\u001b[39m\u001b[38;5;124mvalue\u001b[39m\u001b[38;5;124m\"\u001b[39m]\n",
      "File \u001b[1;32m~\\anaconda3\\Lib\\site-packages\\selenium\\webdriver\\remote\\webdriver.py:354\u001b[0m, in \u001b[0;36mWebDriver.execute\u001b[1;34m(self, driver_command, params)\u001b[0m\n\u001b[0;32m    353\u001b[0m \u001b[38;5;28;01mif\u001b[39;00m response:\n\u001b[1;32m--> 354\u001b[0m     \u001b[38;5;28mself\u001b[39m\u001b[38;5;241m.\u001b[39merror_handler\u001b[38;5;241m.\u001b[39mcheck_response(response)\n\u001b[0;32m    355\u001b[0m     response[\u001b[38;5;124m\"\u001b[39m\u001b[38;5;124mvalue\u001b[39m\u001b[38;5;124m\"\u001b[39m] \u001b[38;5;241m=\u001b[39m \u001b[38;5;28mself\u001b[39m\u001b[38;5;241m.\u001b[39m_unwrap_value(response\u001b[38;5;241m.\u001b[39mget(\u001b[38;5;124m\"\u001b[39m\u001b[38;5;124mvalue\u001b[39m\u001b[38;5;124m\"\u001b[39m, \u001b[38;5;28;01mNone\u001b[39;00m))\n",
      "File \u001b[1;32m~\\anaconda3\\Lib\\site-packages\\selenium\\webdriver\\remote\\errorhandler.py:229\u001b[0m, in \u001b[0;36mErrorHandler.check_response\u001b[1;34m(self, response)\u001b[0m\n\u001b[0;32m    228\u001b[0m     \u001b[38;5;28;01mraise\u001b[39;00m exception_class(message, screen, stacktrace, alert_text)  \u001b[38;5;66;03m# type: ignore[call-arg]  # mypy is not smart enough here\u001b[39;00m\n\u001b[1;32m--> 229\u001b[0m \u001b[38;5;28;01mraise\u001b[39;00m exception_class(message, screen, stacktrace)\n",
      "\u001b[1;31mNoSuchElementException\u001b[0m: Message: no such element: Unable to locate element: {\"method\":\"css selector\",\"selector\":\"[id=\"entryIframe\"]\"}\n  (Session info: chrome=129.0.6668.70); For documentation on this error, please visit: https://www.selenium.dev/documentation/webdriver/troubleshooting/errors#no-such-element-exception\nStacktrace:\n\tGetHandleVerifier [0x00007FF6745AB645+29573]\n\t(No symbol) [0x00007FF674520470]\n\t(No symbol) [0x00007FF6743DB6EA]\n\t(No symbol) [0x00007FF67442F815]\n\t(No symbol) [0x00007FF67442FA6C]\n\t(No symbol) [0x00007FF67447B917]\n\t(No symbol) [0x00007FF67445733F]\n\t(No symbol) [0x00007FF6744786BC]\n\t(No symbol) [0x00007FF6744570A3]\n\t(No symbol) [0x00007FF6744212DF]\n\t(No symbol) [0x00007FF674422441]\n\tGetHandleVerifier [0x00007FF6748DC58D+3375821]\n\tGetHandleVerifier [0x00007FF674927987+3684039]\n\tGetHandleVerifier [0x00007FF67491CDAB+3640043]\n\tGetHandleVerifier [0x00007FF67466B7C6+816390]\n\t(No symbol) [0x00007FF67452B77F]\n\t(No symbol) [0x00007FF6745275A4]\n\t(No symbol) [0x00007FF674527740]\n\t(No symbol) [0x00007FF67451659F]\n\tBaseThreadInitThunk [0x00007FFC8D507614+20]\n\tRtlUserThreadStart [0x00007FFC8DE826A1+33]\n",
      "\nDuring handling of the above exception, another exception occurred:\n",
      "\u001b[1;31mNoSuchElementException\u001b[0m                    Traceback (most recent call last)",
      "File \u001b[1;32m~\\anaconda3\\Lib\\site-packages\\selenium\\webdriver\\remote\\switch_to.py:91\u001b[0m, in \u001b[0;36mSwitchTo.frame\u001b[1;34m(self, frame_reference)\u001b[0m\n\u001b[0;32m     90\u001b[0m \u001b[38;5;28;01mtry\u001b[39;00m:\n\u001b[1;32m---> 91\u001b[0m     frame_reference \u001b[38;5;241m=\u001b[39m \u001b[38;5;28mself\u001b[39m\u001b[38;5;241m.\u001b[39m_driver\u001b[38;5;241m.\u001b[39mfind_element(By\u001b[38;5;241m.\u001b[39mNAME, frame_reference)\n\u001b[0;32m     92\u001b[0m \u001b[38;5;28;01mexcept\u001b[39;00m NoSuchElementException \u001b[38;5;28;01mas\u001b[39;00m exc:\n",
      "File \u001b[1;32m~\\anaconda3\\Lib\\site-packages\\selenium\\webdriver\\remote\\webdriver.py:748\u001b[0m, in \u001b[0;36mWebDriver.find_element\u001b[1;34m(self, by, value)\u001b[0m\n\u001b[0;32m    746\u001b[0m     value \u001b[38;5;241m=\u001b[39m \u001b[38;5;124mf\u001b[39m\u001b[38;5;124m'\u001b[39m\u001b[38;5;124m[name=\u001b[39m\u001b[38;5;124m\"\u001b[39m\u001b[38;5;132;01m{\u001b[39;00mvalue\u001b[38;5;132;01m}\u001b[39;00m\u001b[38;5;124m\"\u001b[39m\u001b[38;5;124m]\u001b[39m\u001b[38;5;124m'\u001b[39m\n\u001b[1;32m--> 748\u001b[0m \u001b[38;5;28;01mreturn\u001b[39;00m \u001b[38;5;28mself\u001b[39m\u001b[38;5;241m.\u001b[39mexecute(Command\u001b[38;5;241m.\u001b[39mFIND_ELEMENT, {\u001b[38;5;124m\"\u001b[39m\u001b[38;5;124musing\u001b[39m\u001b[38;5;124m\"\u001b[39m: by, \u001b[38;5;124m\"\u001b[39m\u001b[38;5;124mvalue\u001b[39m\u001b[38;5;124m\"\u001b[39m: value})[\u001b[38;5;124m\"\u001b[39m\u001b[38;5;124mvalue\u001b[39m\u001b[38;5;124m\"\u001b[39m]\n",
      "File \u001b[1;32m~\\anaconda3\\Lib\\site-packages\\selenium\\webdriver\\remote\\webdriver.py:354\u001b[0m, in \u001b[0;36mWebDriver.execute\u001b[1;34m(self, driver_command, params)\u001b[0m\n\u001b[0;32m    353\u001b[0m \u001b[38;5;28;01mif\u001b[39;00m response:\n\u001b[1;32m--> 354\u001b[0m     \u001b[38;5;28mself\u001b[39m\u001b[38;5;241m.\u001b[39merror_handler\u001b[38;5;241m.\u001b[39mcheck_response(response)\n\u001b[0;32m    355\u001b[0m     response[\u001b[38;5;124m\"\u001b[39m\u001b[38;5;124mvalue\u001b[39m\u001b[38;5;124m\"\u001b[39m] \u001b[38;5;241m=\u001b[39m \u001b[38;5;28mself\u001b[39m\u001b[38;5;241m.\u001b[39m_unwrap_value(response\u001b[38;5;241m.\u001b[39mget(\u001b[38;5;124m\"\u001b[39m\u001b[38;5;124mvalue\u001b[39m\u001b[38;5;124m\"\u001b[39m, \u001b[38;5;28;01mNone\u001b[39;00m))\n",
      "File \u001b[1;32m~\\anaconda3\\Lib\\site-packages\\selenium\\webdriver\\remote\\errorhandler.py:229\u001b[0m, in \u001b[0;36mErrorHandler.check_response\u001b[1;34m(self, response)\u001b[0m\n\u001b[0;32m    228\u001b[0m     \u001b[38;5;28;01mraise\u001b[39;00m exception_class(message, screen, stacktrace, alert_text)  \u001b[38;5;66;03m# type: ignore[call-arg]  # mypy is not smart enough here\u001b[39;00m\n\u001b[1;32m--> 229\u001b[0m \u001b[38;5;28;01mraise\u001b[39;00m exception_class(message, screen, stacktrace)\n",
      "\u001b[1;31mNoSuchElementException\u001b[0m: Message: no such element: Unable to locate element: {\"method\":\"css selector\",\"selector\":\"[name=\"entryIframe\"]\"}\n  (Session info: chrome=129.0.6668.70); For documentation on this error, please visit: https://www.selenium.dev/documentation/webdriver/troubleshooting/errors#no-such-element-exception\nStacktrace:\n\tGetHandleVerifier [0x00007FF6745AB645+29573]\n\t(No symbol) [0x00007FF674520470]\n\t(No symbol) [0x00007FF6743DB6EA]\n\t(No symbol) [0x00007FF67442F815]\n\t(No symbol) [0x00007FF67442FA6C]\n\t(No symbol) [0x00007FF67447B917]\n\t(No symbol) [0x00007FF67445733F]\n\t(No symbol) [0x00007FF6744786BC]\n\t(No symbol) [0x00007FF6744570A3]\n\t(No symbol) [0x00007FF6744212DF]\n\t(No symbol) [0x00007FF674422441]\n\tGetHandleVerifier [0x00007FF6748DC58D+3375821]\n\tGetHandleVerifier [0x00007FF674927987+3684039]\n\tGetHandleVerifier [0x00007FF67491CDAB+3640043]\n\tGetHandleVerifier [0x00007FF67466B7C6+816390]\n\t(No symbol) [0x00007FF67452B77F]\n\t(No symbol) [0x00007FF6745275A4]\n\t(No symbol) [0x00007FF674527740]\n\t(No symbol) [0x00007FF67451659F]\n\tBaseThreadInitThunk [0x00007FFC8D507614+20]\n\tRtlUserThreadStart [0x00007FFC8DE826A1+33]\n",
      "\nThe above exception was the direct cause of the following exception:\n",
      "\u001b[1;31mNoSuchFrameException\u001b[0m                      Traceback (most recent call last)",
      "Cell \u001b[1;32mIn[8], line 3\u001b[0m\n\u001b[0;32m      1\u001b[0m \u001b[38;5;66;03m# 현재: driver는 네이버지도 메인페이지를 가리킨 상태\u001b[39;00m\n\u001b[0;32m      2\u001b[0m \u001b[38;5;66;03m#  -> entryIframe으로 창 전환하기\u001b[39;00m\n\u001b[1;32m----> 3\u001b[0m driver\u001b[38;5;241m.\u001b[39mswitch_to\u001b[38;5;241m.\u001b[39mframe(\u001b[38;5;124m'\u001b[39m\u001b[38;5;124mentryIframe\u001b[39m\u001b[38;5;124m'\u001b[39m)\n",
      "File \u001b[1;32m~\\anaconda3\\Lib\\site-packages\\selenium\\webdriver\\remote\\switch_to.py:93\u001b[0m, in \u001b[0;36mSwitchTo.frame\u001b[1;34m(self, frame_reference)\u001b[0m\n\u001b[0;32m     91\u001b[0m             frame_reference \u001b[38;5;241m=\u001b[39m \u001b[38;5;28mself\u001b[39m\u001b[38;5;241m.\u001b[39m_driver\u001b[38;5;241m.\u001b[39mfind_element(By\u001b[38;5;241m.\u001b[39mNAME, frame_reference)\n\u001b[0;32m     92\u001b[0m         \u001b[38;5;28;01mexcept\u001b[39;00m NoSuchElementException \u001b[38;5;28;01mas\u001b[39;00m exc:\n\u001b[1;32m---> 93\u001b[0m             \u001b[38;5;28;01mraise\u001b[39;00m NoSuchFrameException(frame_reference) \u001b[38;5;28;01mfrom\u001b[39;00m \u001b[38;5;21;01mexc\u001b[39;00m\n\u001b[0;32m     95\u001b[0m \u001b[38;5;28mself\u001b[39m\u001b[38;5;241m.\u001b[39m_driver\u001b[38;5;241m.\u001b[39mexecute(Command\u001b[38;5;241m.\u001b[39mSWITCH_TO_FRAME, {\u001b[38;5;124m\"\u001b[39m\u001b[38;5;124mid\u001b[39m\u001b[38;5;124m\"\u001b[39m: frame_reference})\n",
      "\u001b[1;31mNoSuchFrameException\u001b[0m: Message: entryIframe\n"
     ]
    }
   ],
   "source": [
    "# 현재: driver는 네이버지도 메인페이지를 가리킨 상태\n",
    "#  -> entryIframe으로 창 전환하기\n",
    "driver.switch_to.frame('entryIframe')"
   ]
  },
  {
   "cell_type": "code",
   "execution_count": null,
   "id": "eafae97b-2d6b-4a6c-b6d9-fc9f598824ed",
   "metadata": {},
   "outputs": [],
   "source": [
    "# store_location = driver.find_element(By.CLASS_NAME, 'LDgIH')\n",
    "# store_phone = driver.find_element(By.CLASS_NAME, 'xlx7Q')\n",
    "# print(store_location.text)\n",
    "# print(store_phone.text)"
   ]
  },
  {
   "cell_type": "code",
   "execution_count": 20,
   "id": "e10c855c-b28a-4e04-9495-cb635fdbc7be",
   "metadata": {},
   "outputs": [
    {
     "name": "stdout",
     "output_type": "stream",
     "text": [
      "라그로쏘\n",
      "광주 동구 중앙로252번길 11 1, 2층\n",
      "0507-1319-2195\n"
     ]
    }
   ],
   "source": [
    "store_nm = driver.find_element(By.CLASS_NAME, 'GHAhO')\n",
    "print(store_nm.text)\n",
    "\n",
    "# try~except: 예외처리 문법\n",
    "# try문 : 실행할 로직 정의\n",
    "# except문 : 오류가 발생했을 때 대응할 로직 정의\n",
    "try: \n",
    "    store_location = driver.find_element(By.CLASS_NAME, 'LDgIH')\n",
    "    print(store_location.text)\n",
    "except : \n",
    "    print('데이터가 존재하지 않음')\n",
    "\n",
    "try:\n",
    "    store_phone = driver.find_element(By.CLASS_NAME, 'xlx7Q')\n",
    "    print(store_phone.text)\n",
    "except :\n",
    "    print('데이터가 존재하지 않음')\n",
    "    \n",
    "# 주소, 전화번호 수집 후 출력"
   ]
  },
  {
   "cell_type": "code",
   "execution_count": 3,
   "id": "991e4a30-a7fb-4336-8a9b-7a4a6e1173d7",
   "metadata": {},
   "outputs": [
    {
     "ename": "NoSuchWindowException",
     "evalue": "Message: no such window: target window already closed\nfrom unknown error: web view not found\n  (Session info: chrome=129.0.6668.70)\nStacktrace:\n\tGetHandleVerifier [0x00007FF6745AB645+29573]\n\t(No symbol) [0x00007FF674520470]\n\t(No symbol) [0x00007FF6743DB6EA]\n\t(No symbol) [0x00007FF6743AFCD5]\n\t(No symbol) [0x00007FF67445EF67]\n\t(No symbol) [0x00007FF674477FC1]\n\t(No symbol) [0x00007FF6744570A3]\n\t(No symbol) [0x00007FF6744212DF]\n\t(No symbol) [0x00007FF674422441]\n\tGetHandleVerifier [0x00007FF6748DC58D+3375821]\n\tGetHandleVerifier [0x00007FF674927987+3684039]\n\tGetHandleVerifier [0x00007FF67491CDAB+3640043]\n\tGetHandleVerifier [0x00007FF67466B7C6+816390]\n\t(No symbol) [0x00007FF67452B77F]\n\t(No symbol) [0x00007FF6745275A4]\n\t(No symbol) [0x00007FF674527740]\n\t(No symbol) [0x00007FF67451659F]\n\tBaseThreadInitThunk [0x00007FFC8D507614+20]\n\tRtlUserThreadStart [0x00007FFC8DE826A1+33]\n",
     "output_type": "error",
     "traceback": [
      "\u001b[1;31m---------------------------------------------------------------------------\u001b[0m",
      "\u001b[1;31mNoSuchWindowException\u001b[0m                     Traceback (most recent call last)",
      "Cell \u001b[1;32mIn[3], line 1\u001b[0m\n\u001b[1;32m----> 1\u001b[0m driver\u001b[38;5;241m.\u001b[39mswitch_to\u001b[38;5;241m.\u001b[39mdefault_content()\n\u001b[0;32m      2\u001b[0m driver\u001b[38;5;241m.\u001b[39mswitch_to\u001b[38;5;241m.\u001b[39mframe(\u001b[38;5;124m'\u001b[39m\u001b[38;5;124msearchIframe\u001b[39m\u001b[38;5;124m'\u001b[39m)\n",
      "File \u001b[1;32m~\\anaconda3\\Lib\\site-packages\\selenium\\webdriver\\remote\\switch_to.py:69\u001b[0m, in \u001b[0;36mSwitchTo.default_content\u001b[1;34m(self)\u001b[0m\n\u001b[0;32m     61\u001b[0m \u001b[38;5;28;01mdef\u001b[39;00m \u001b[38;5;21mdefault_content\u001b[39m(\u001b[38;5;28mself\u001b[39m) \u001b[38;5;241m-\u001b[39m\u001b[38;5;241m>\u001b[39m \u001b[38;5;28;01mNone\u001b[39;00m:\n\u001b[0;32m     62\u001b[0m \u001b[38;5;250m    \u001b[39m\u001b[38;5;124;03m\"\"\"Switch focus to the default frame.\u001b[39;00m\n\u001b[0;32m     63\u001b[0m \n\u001b[0;32m     64\u001b[0m \u001b[38;5;124;03m    :Usage:\u001b[39;00m\n\u001b[1;32m   (...)\u001b[0m\n\u001b[0;32m     67\u001b[0m \u001b[38;5;124;03m            driver.switch_to.default_content()\u001b[39;00m\n\u001b[0;32m     68\u001b[0m \u001b[38;5;124;03m    \"\"\"\u001b[39;00m\n\u001b[1;32m---> 69\u001b[0m     \u001b[38;5;28mself\u001b[39m\u001b[38;5;241m.\u001b[39m_driver\u001b[38;5;241m.\u001b[39mexecute(Command\u001b[38;5;241m.\u001b[39mSWITCH_TO_FRAME, {\u001b[38;5;124m\"\u001b[39m\u001b[38;5;124mid\u001b[39m\u001b[38;5;124m\"\u001b[39m: \u001b[38;5;28;01mNone\u001b[39;00m})\n",
      "File \u001b[1;32m~\\anaconda3\\Lib\\site-packages\\selenium\\webdriver\\remote\\webdriver.py:354\u001b[0m, in \u001b[0;36mWebDriver.execute\u001b[1;34m(self, driver_command, params)\u001b[0m\n\u001b[0;32m    352\u001b[0m response \u001b[38;5;241m=\u001b[39m \u001b[38;5;28mself\u001b[39m\u001b[38;5;241m.\u001b[39mcommand_executor\u001b[38;5;241m.\u001b[39mexecute(driver_command, params)\n\u001b[0;32m    353\u001b[0m \u001b[38;5;28;01mif\u001b[39;00m response:\n\u001b[1;32m--> 354\u001b[0m     \u001b[38;5;28mself\u001b[39m\u001b[38;5;241m.\u001b[39merror_handler\u001b[38;5;241m.\u001b[39mcheck_response(response)\n\u001b[0;32m    355\u001b[0m     response[\u001b[38;5;124m\"\u001b[39m\u001b[38;5;124mvalue\u001b[39m\u001b[38;5;124m\"\u001b[39m] \u001b[38;5;241m=\u001b[39m \u001b[38;5;28mself\u001b[39m\u001b[38;5;241m.\u001b[39m_unwrap_value(response\u001b[38;5;241m.\u001b[39mget(\u001b[38;5;124m\"\u001b[39m\u001b[38;5;124mvalue\u001b[39m\u001b[38;5;124m\"\u001b[39m, \u001b[38;5;28;01mNone\u001b[39;00m))\n\u001b[0;32m    356\u001b[0m     \u001b[38;5;28;01mreturn\u001b[39;00m response\n",
      "File \u001b[1;32m~\\anaconda3\\Lib\\site-packages\\selenium\\webdriver\\remote\\errorhandler.py:229\u001b[0m, in \u001b[0;36mErrorHandler.check_response\u001b[1;34m(self, response)\u001b[0m\n\u001b[0;32m    227\u001b[0m         alert_text \u001b[38;5;241m=\u001b[39m value[\u001b[38;5;124m\"\u001b[39m\u001b[38;5;124malert\u001b[39m\u001b[38;5;124m\"\u001b[39m]\u001b[38;5;241m.\u001b[39mget(\u001b[38;5;124m\"\u001b[39m\u001b[38;5;124mtext\u001b[39m\u001b[38;5;124m\"\u001b[39m)\n\u001b[0;32m    228\u001b[0m     \u001b[38;5;28;01mraise\u001b[39;00m exception_class(message, screen, stacktrace, alert_text)  \u001b[38;5;66;03m# type: ignore[call-arg]  # mypy is not smart enough here\u001b[39;00m\n\u001b[1;32m--> 229\u001b[0m \u001b[38;5;28;01mraise\u001b[39;00m exception_class(message, screen, stacktrace)\n",
      "\u001b[1;31mNoSuchWindowException\u001b[0m: Message: no such window: target window already closed\nfrom unknown error: web view not found\n  (Session info: chrome=129.0.6668.70)\nStacktrace:\n\tGetHandleVerifier [0x00007FF6745AB645+29573]\n\t(No symbol) [0x00007FF674520470]\n\t(No symbol) [0x00007FF6743DB6EA]\n\t(No symbol) [0x00007FF6743AFCD5]\n\t(No symbol) [0x00007FF67445EF67]\n\t(No symbol) [0x00007FF674477FC1]\n\t(No symbol) [0x00007FF6744570A3]\n\t(No symbol) [0x00007FF6744212DF]\n\t(No symbol) [0x00007FF674422441]\n\tGetHandleVerifier [0x00007FF6748DC58D+3375821]\n\tGetHandleVerifier [0x00007FF674927987+3684039]\n\tGetHandleVerifier [0x00007FF67491CDAB+3640043]\n\tGetHandleVerifier [0x00007FF67466B7C6+816390]\n\t(No symbol) [0x00007FF67452B77F]\n\t(No symbol) [0x00007FF6745275A4]\n\t(No symbol) [0x00007FF674527740]\n\t(No symbol) [0x00007FF67451659F]\n\tBaseThreadInitThunk [0x00007FFC8D507614+20]\n\tRtlUserThreadStart [0x00007FFC8DE826A1+33]\n"
     ]
    }
   ],
   "source": [
    "driver.switch_to.default_content()\n",
    "driver.switch_to.frame('searchIframe')"
   ]
  },
  {
   "cell_type": "code",
   "execution_count": 22,
   "id": "f723aad4-5f08-48b0-b5f1-754e72dd9a75",
   "metadata": {},
   "outputs": [],
   "source": [
    "# 다음 가게 클릭\n",
    "f_stores[1].click()"
   ]
  },
  {
   "cell_type": "markdown",
   "id": "c95d29c8-0491-46de-a145-5a521f79680e",
   "metadata": {},
   "source": [
    "### 코드통합 - 가게 정보 수집 실습"
   ]
  },
  {
   "cell_type": "code",
   "execution_count": 1,
   "id": "f2aa8872-bc98-43ca-bf60-76748736f754",
   "metadata": {},
   "outputs": [
    {
     "ename": "NoSuchFrameException",
     "evalue": "Message: entryIframe\n",
     "output_type": "error",
     "traceback": [
      "\u001b[1;31m---------------------------------------------------------------------------\u001b[0m",
      "\u001b[1;31mNoSuchElementException\u001b[0m                    Traceback (most recent call last)",
      "File \u001b[1;32m~\\anaconda3\\Lib\\site-packages\\selenium\\webdriver\\remote\\switch_to.py:88\u001b[0m, in \u001b[0;36mSwitchTo.frame\u001b[1;34m(self, frame_reference)\u001b[0m\n\u001b[0;32m     87\u001b[0m \u001b[38;5;28;01mtry\u001b[39;00m:\n\u001b[1;32m---> 88\u001b[0m     frame_reference \u001b[38;5;241m=\u001b[39m \u001b[38;5;28mself\u001b[39m\u001b[38;5;241m.\u001b[39m_driver\u001b[38;5;241m.\u001b[39mfind_element(By\u001b[38;5;241m.\u001b[39mID, frame_reference)\n\u001b[0;32m     89\u001b[0m \u001b[38;5;28;01mexcept\u001b[39;00m NoSuchElementException:\n",
      "File \u001b[1;32m~\\anaconda3\\Lib\\site-packages\\selenium\\webdriver\\remote\\webdriver.py:748\u001b[0m, in \u001b[0;36mWebDriver.find_element\u001b[1;34m(self, by, value)\u001b[0m\n\u001b[0;32m    746\u001b[0m     value \u001b[38;5;241m=\u001b[39m \u001b[38;5;124mf\u001b[39m\u001b[38;5;124m'\u001b[39m\u001b[38;5;124m[name=\u001b[39m\u001b[38;5;124m\"\u001b[39m\u001b[38;5;132;01m{\u001b[39;00mvalue\u001b[38;5;132;01m}\u001b[39;00m\u001b[38;5;124m\"\u001b[39m\u001b[38;5;124m]\u001b[39m\u001b[38;5;124m'\u001b[39m\n\u001b[1;32m--> 748\u001b[0m \u001b[38;5;28;01mreturn\u001b[39;00m \u001b[38;5;28mself\u001b[39m\u001b[38;5;241m.\u001b[39mexecute(Command\u001b[38;5;241m.\u001b[39mFIND_ELEMENT, {\u001b[38;5;124m\"\u001b[39m\u001b[38;5;124musing\u001b[39m\u001b[38;5;124m\"\u001b[39m: by, \u001b[38;5;124m\"\u001b[39m\u001b[38;5;124mvalue\u001b[39m\u001b[38;5;124m\"\u001b[39m: value})[\u001b[38;5;124m\"\u001b[39m\u001b[38;5;124mvalue\u001b[39m\u001b[38;5;124m\"\u001b[39m]\n",
      "File \u001b[1;32m~\\anaconda3\\Lib\\site-packages\\selenium\\webdriver\\remote\\webdriver.py:354\u001b[0m, in \u001b[0;36mWebDriver.execute\u001b[1;34m(self, driver_command, params)\u001b[0m\n\u001b[0;32m    353\u001b[0m \u001b[38;5;28;01mif\u001b[39;00m response:\n\u001b[1;32m--> 354\u001b[0m     \u001b[38;5;28mself\u001b[39m\u001b[38;5;241m.\u001b[39merror_handler\u001b[38;5;241m.\u001b[39mcheck_response(response)\n\u001b[0;32m    355\u001b[0m     response[\u001b[38;5;124m\"\u001b[39m\u001b[38;5;124mvalue\u001b[39m\u001b[38;5;124m\"\u001b[39m] \u001b[38;5;241m=\u001b[39m \u001b[38;5;28mself\u001b[39m\u001b[38;5;241m.\u001b[39m_unwrap_value(response\u001b[38;5;241m.\u001b[39mget(\u001b[38;5;124m\"\u001b[39m\u001b[38;5;124mvalue\u001b[39m\u001b[38;5;124m\"\u001b[39m, \u001b[38;5;28;01mNone\u001b[39;00m))\n",
      "File \u001b[1;32m~\\anaconda3\\Lib\\site-packages\\selenium\\webdriver\\remote\\errorhandler.py:229\u001b[0m, in \u001b[0;36mErrorHandler.check_response\u001b[1;34m(self, response)\u001b[0m\n\u001b[0;32m    228\u001b[0m     \u001b[38;5;28;01mraise\u001b[39;00m exception_class(message, screen, stacktrace, alert_text)  \u001b[38;5;66;03m# type: ignore[call-arg]  # mypy is not smart enough here\u001b[39;00m\n\u001b[1;32m--> 229\u001b[0m \u001b[38;5;28;01mraise\u001b[39;00m exception_class(message, screen, stacktrace)\n",
      "\u001b[1;31mNoSuchElementException\u001b[0m: Message: no such element: Unable to locate element: {\"method\":\"css selector\",\"selector\":\"[id=\"entryIframe\"]\"}\n  (Session info: chrome=129.0.6668.70); For documentation on this error, please visit: https://www.selenium.dev/documentation/webdriver/troubleshooting/errors#no-such-element-exception\nStacktrace:\n\tGetHandleVerifier [0x00007FF6745AB645+29573]\n\t(No symbol) [0x00007FF674520470]\n\t(No symbol) [0x00007FF6743DB6EA]\n\t(No symbol) [0x00007FF67442F815]\n\t(No symbol) [0x00007FF67442FA6C]\n\t(No symbol) [0x00007FF67447B917]\n\t(No symbol) [0x00007FF67445733F]\n\t(No symbol) [0x00007FF6744786BC]\n\t(No symbol) [0x00007FF6744570A3]\n\t(No symbol) [0x00007FF6744212DF]\n\t(No symbol) [0x00007FF674422441]\n\tGetHandleVerifier [0x00007FF6748DC58D+3375821]\n\tGetHandleVerifier [0x00007FF674927987+3684039]\n\tGetHandleVerifier [0x00007FF67491CDAB+3640043]\n\tGetHandleVerifier [0x00007FF67466B7C6+816390]\n\t(No symbol) [0x00007FF67452B77F]\n\t(No symbol) [0x00007FF6745275A4]\n\t(No symbol) [0x00007FF674527740]\n\t(No symbol) [0x00007FF67451659F]\n\tBaseThreadInitThunk [0x00007FFC8D507614+20]\n\tRtlUserThreadStart [0x00007FFC8DE826A1+33]\n",
      "\nDuring handling of the above exception, another exception occurred:\n",
      "\u001b[1;31mNoSuchElementException\u001b[0m                    Traceback (most recent call last)",
      "File \u001b[1;32m~\\anaconda3\\Lib\\site-packages\\selenium\\webdriver\\remote\\switch_to.py:91\u001b[0m, in \u001b[0;36mSwitchTo.frame\u001b[1;34m(self, frame_reference)\u001b[0m\n\u001b[0;32m     90\u001b[0m \u001b[38;5;28;01mtry\u001b[39;00m:\n\u001b[1;32m---> 91\u001b[0m     frame_reference \u001b[38;5;241m=\u001b[39m \u001b[38;5;28mself\u001b[39m\u001b[38;5;241m.\u001b[39m_driver\u001b[38;5;241m.\u001b[39mfind_element(By\u001b[38;5;241m.\u001b[39mNAME, frame_reference)\n\u001b[0;32m     92\u001b[0m \u001b[38;5;28;01mexcept\u001b[39;00m NoSuchElementException \u001b[38;5;28;01mas\u001b[39;00m exc:\n",
      "File \u001b[1;32m~\\anaconda3\\Lib\\site-packages\\selenium\\webdriver\\remote\\webdriver.py:748\u001b[0m, in \u001b[0;36mWebDriver.find_element\u001b[1;34m(self, by, value)\u001b[0m\n\u001b[0;32m    746\u001b[0m     value \u001b[38;5;241m=\u001b[39m \u001b[38;5;124mf\u001b[39m\u001b[38;5;124m'\u001b[39m\u001b[38;5;124m[name=\u001b[39m\u001b[38;5;124m\"\u001b[39m\u001b[38;5;132;01m{\u001b[39;00mvalue\u001b[38;5;132;01m}\u001b[39;00m\u001b[38;5;124m\"\u001b[39m\u001b[38;5;124m]\u001b[39m\u001b[38;5;124m'\u001b[39m\n\u001b[1;32m--> 748\u001b[0m \u001b[38;5;28;01mreturn\u001b[39;00m \u001b[38;5;28mself\u001b[39m\u001b[38;5;241m.\u001b[39mexecute(Command\u001b[38;5;241m.\u001b[39mFIND_ELEMENT, {\u001b[38;5;124m\"\u001b[39m\u001b[38;5;124musing\u001b[39m\u001b[38;5;124m\"\u001b[39m: by, \u001b[38;5;124m\"\u001b[39m\u001b[38;5;124mvalue\u001b[39m\u001b[38;5;124m\"\u001b[39m: value})[\u001b[38;5;124m\"\u001b[39m\u001b[38;5;124mvalue\u001b[39m\u001b[38;5;124m\"\u001b[39m]\n",
      "File \u001b[1;32m~\\anaconda3\\Lib\\site-packages\\selenium\\webdriver\\remote\\webdriver.py:354\u001b[0m, in \u001b[0;36mWebDriver.execute\u001b[1;34m(self, driver_command, params)\u001b[0m\n\u001b[0;32m    353\u001b[0m \u001b[38;5;28;01mif\u001b[39;00m response:\n\u001b[1;32m--> 354\u001b[0m     \u001b[38;5;28mself\u001b[39m\u001b[38;5;241m.\u001b[39merror_handler\u001b[38;5;241m.\u001b[39mcheck_response(response)\n\u001b[0;32m    355\u001b[0m     response[\u001b[38;5;124m\"\u001b[39m\u001b[38;5;124mvalue\u001b[39m\u001b[38;5;124m\"\u001b[39m] \u001b[38;5;241m=\u001b[39m \u001b[38;5;28mself\u001b[39m\u001b[38;5;241m.\u001b[39m_unwrap_value(response\u001b[38;5;241m.\u001b[39mget(\u001b[38;5;124m\"\u001b[39m\u001b[38;5;124mvalue\u001b[39m\u001b[38;5;124m\"\u001b[39m, \u001b[38;5;28;01mNone\u001b[39;00m))\n",
      "File \u001b[1;32m~\\anaconda3\\Lib\\site-packages\\selenium\\webdriver\\remote\\errorhandler.py:229\u001b[0m, in \u001b[0;36mErrorHandler.check_response\u001b[1;34m(self, response)\u001b[0m\n\u001b[0;32m    228\u001b[0m     \u001b[38;5;28;01mraise\u001b[39;00m exception_class(message, screen, stacktrace, alert_text)  \u001b[38;5;66;03m# type: ignore[call-arg]  # mypy is not smart enough here\u001b[39;00m\n\u001b[1;32m--> 229\u001b[0m \u001b[38;5;28;01mraise\u001b[39;00m exception_class(message, screen, stacktrace)\n",
      "\u001b[1;31mNoSuchElementException\u001b[0m: Message: no such element: Unable to locate element: {\"method\":\"css selector\",\"selector\":\"[name=\"entryIframe\"]\"}\n  (Session info: chrome=129.0.6668.70); For documentation on this error, please visit: https://www.selenium.dev/documentation/webdriver/troubleshooting/errors#no-such-element-exception\nStacktrace:\n\tGetHandleVerifier [0x00007FF6745AB645+29573]\n\t(No symbol) [0x00007FF674520470]\n\t(No symbol) [0x00007FF6743DB6EA]\n\t(No symbol) [0x00007FF67442F815]\n\t(No symbol) [0x00007FF67442FA6C]\n\t(No symbol) [0x00007FF67447B917]\n\t(No symbol) [0x00007FF67445733F]\n\t(No symbol) [0x00007FF6744786BC]\n\t(No symbol) [0x00007FF6744570A3]\n\t(No symbol) [0x00007FF6744212DF]\n\t(No symbol) [0x00007FF674422441]\n\tGetHandleVerifier [0x00007FF6748DC58D+3375821]\n\tGetHandleVerifier [0x00007FF674927987+3684039]\n\tGetHandleVerifier [0x00007FF67491CDAB+3640043]\n\tGetHandleVerifier [0x00007FF67466B7C6+816390]\n\t(No symbol) [0x00007FF67452B77F]\n\t(No symbol) [0x00007FF6745275A4]\n\t(No symbol) [0x00007FF674527740]\n\t(No symbol) [0x00007FF67451659F]\n\tBaseThreadInitThunk [0x00007FFC8D507614+20]\n\tRtlUserThreadStart [0x00007FFC8DE826A1+33]\n",
      "\nThe above exception was the direct cause of the following exception:\n",
      "\u001b[1;31mNoSuchFrameException\u001b[0m                      Traceback (most recent call last)",
      "Cell \u001b[1;32mIn[1], line 29\u001b[0m\n\u001b[0;32m     26\u001b[0m driver\u001b[38;5;241m.\u001b[39mswitch_to\u001b[38;5;241m.\u001b[39mdefault_content()\n\u001b[0;32m     27\u001b[0m time\u001b[38;5;241m.\u001b[39msleep(\u001b[38;5;241m1\u001b[39m)\n\u001b[1;32m---> 29\u001b[0m driver\u001b[38;5;241m.\u001b[39mswitch_to\u001b[38;5;241m.\u001b[39mframe(\u001b[38;5;124m'\u001b[39m\u001b[38;5;124mentryIframe\u001b[39m\u001b[38;5;124m'\u001b[39m)\n\u001b[0;32m     31\u001b[0m store_nm \u001b[38;5;241m=\u001b[39m driver\u001b[38;5;241m.\u001b[39mfind_element(By\u001b[38;5;241m.\u001b[39mCLASS_NAME,\u001b[38;5;124m'\u001b[39m\u001b[38;5;124mGHAhO\u001b[39m\u001b[38;5;124m'\u001b[39m)\n\u001b[0;32m     32\u001b[0m \u001b[38;5;28mprint\u001b[39m(store_nm\u001b[38;5;241m.\u001b[39mtext)\n",
      "File \u001b[1;32m~\\anaconda3\\Lib\\site-packages\\selenium\\webdriver\\remote\\switch_to.py:93\u001b[0m, in \u001b[0;36mSwitchTo.frame\u001b[1;34m(self, frame_reference)\u001b[0m\n\u001b[0;32m     91\u001b[0m             frame_reference \u001b[38;5;241m=\u001b[39m \u001b[38;5;28mself\u001b[39m\u001b[38;5;241m.\u001b[39m_driver\u001b[38;5;241m.\u001b[39mfind_element(By\u001b[38;5;241m.\u001b[39mNAME, frame_reference)\n\u001b[0;32m     92\u001b[0m         \u001b[38;5;28;01mexcept\u001b[39;00m NoSuchElementException \u001b[38;5;28;01mas\u001b[39;00m exc:\n\u001b[1;32m---> 93\u001b[0m             \u001b[38;5;28;01mraise\u001b[39;00m NoSuchFrameException(frame_reference) \u001b[38;5;28;01mfrom\u001b[39;00m \u001b[38;5;21;01mexc\u001b[39;00m\n\u001b[0;32m     95\u001b[0m \u001b[38;5;28mself\u001b[39m\u001b[38;5;241m.\u001b[39m_driver\u001b[38;5;241m.\u001b[39mexecute(Command\u001b[38;5;241m.\u001b[39mSWITCH_TO_FRAME, {\u001b[38;5;124m\"\u001b[39m\u001b[38;5;124mid\u001b[39m\u001b[38;5;124m\"\u001b[39m: frame_reference})\n",
      "\u001b[1;31mNoSuchFrameException\u001b[0m: Message: entryIframe\n"
     ]
    }
   ],
   "source": [
    "import time\n",
    "import pandas as pd\n",
    "\n",
    "from selenium import webdriver as wb\n",
    "from selenium.webdriver.common.by import By\n",
    "from selenium.webdriver.common.keys import Keys\n",
    "\n",
    "driver = wb.Chrome()\n",
    "\n",
    "naver_map_url ='https://map.naver.com/p?c=15.00,0,0,0,dh'\n",
    "driver.get(naver_map_url)\n",
    "\n",
    "search_input = driver.find_element(By.CLASS_NAME, 'input_search')\n",
    "search_input.send_keys('광주 동명동 맛집\\n')\n",
    "\n",
    "# 검색된 정보가 보여지는 시간\n",
    "time.sleep(3)\n",
    "\n",
    "driver.switch_to.frame('searchIframe')\n",
    "\n",
    "f_stores = driver.find_elements(By.CLASS_NAME, 'tzwk0')\n",
    "\n",
    "for i in range(len(f_stores)):\n",
    "    f_stores[i].click()\n",
    "\n",
    "    driver.switch_to.default_content()\n",
    "    time.sleep(1)\n",
    "    \n",
    "    driver.switch_to.frame('entryIframe')\n",
    "\n",
    "    store_nm = driver.find_element(By.CLASS_NAME,'GHAhO')\n",
    "    print(store_nm.text)\n",
    "\n",
    "    try:\n",
    "        store_addr = driver.find_element(By.CLASS_NAME,'LDgIH')\n",
    "        print(store_addr.text)\n",
    "    except:\n",
    "        print('데이터가 존재하지 않음')\n",
    "    \n",
    "    try:\n",
    "        store_tel = driver.find_element(By.CLASS_NAME, 'xlx7Q')\n",
    "        print(store_tel.text)\n",
    "    except:\n",
    "        print('데이터가 존재하지 않음')\n",
    "\n",
    "    driver.switch_to.default_content()\n",
    "    driver.switch_to.frame('searchIframe')\n",
    "\n",
    "    time.sleep(2)"
   ]
  },
  {
   "cell_type": "code",
   "execution_count": 2,
   "id": "8ea5d5ec-18bc-48ed-bebf-fa98bc8d727b",
   "metadata": {},
   "outputs": [
    {
     "name": "stdout",
     "output_type": "stream",
     "text": [
      "쭈꾸미잡스\n",
      "광주 동구 장동로 41 1층\n",
      "0507-1346-5658\n",
      "오감탄\n",
      "광주 동구 동명로26번길 29-3 1층 오감탄\n",
      "0507-1412-7232\n",
      "백탄집 본점\n",
      "광주 동구 동계천로 178-1 1층\n",
      "0507-1344-0269\n",
      "동백카츠 동명점\n",
      "광주 동구 동계천로 147 1층 동백카츠 동명점\n",
      "062-226-7799\n",
      "동명동오보에루\n",
      "광주 동구 동명로20번길 22-4 1층\n",
      "062-470-1037\n",
      "피스커피랩\n",
      "광주 동구 동명로14번길 6 1층\n",
      "0507-1429-5432\n",
      "코코로나인\n",
      "광주 동구 장동로 36 코코로나인\n",
      "062-222-5023\n",
      "파트 오브 런던\n",
      "광주 동구 동계천로 135-6 파트 오브 런던\n",
      "0507-1446-1217\n",
      "올데이우동 동명점\n",
      "광주 동구 동계천로 151-31 1층\n",
      "0507-1391-7319\n",
      "라그로쏘\n",
      "광주 동구 중앙로252번길 11 1, 2층\n",
      "0507-1319-2195\n"
     ]
    }
   ],
   "source": [
    "import time\n",
    "import pandas as pd\n",
    "\n",
    "from selenium import webdriver as wb\n",
    "from selenium.webdriver.common.by import By\n",
    "from selenium.webdriver.common.keys import Keys\n",
    "from selenium.webdriver.chrome.options import Options\n",
    "\n",
    "options = Options()\n",
    "options.add_argument('user-agent=Mozilla/5.0 (Windows NT 10.0; Win64; x64) AppleWebKit/537.36 (KHTML, like Gecko) Chrome/129.0.0.0 Safari/537.36')\n",
    "options.add_argument('headless') # 테스트 브라우저를 백그라운드 상에서 동작 \n",
    "options.add_argument(\"disable-blink-features=AutomationControlled\")  # 자동화 탐지 방지\n",
    "options.add_experimental_option(\"excludeSwitches\", [\"enable-automation\"])  # 자동화 표시 제거\n",
    "options.add_experimental_option('useAutomationExtension', False)  # 자동화 확장 기능 사용 안 함\n",
    "\n",
    "driver = wb.Chrome(options=options)\n",
    "\n",
    "naver_map_url ='https://map.naver.com/p?c=15.00,0,0,0,dh'\n",
    "driver.get(naver_map_url)\n",
    "\n",
    "search_input = driver.find_element(By.CLASS_NAME, 'input_search')\n",
    "search_input.send_keys('광주 동명동 맛집\\n')\n",
    "\n",
    "# 검색된 정보가 보여지는 시간\n",
    "time.sleep(3)\n",
    "\n",
    "driver.switch_to.frame('searchIframe')\n",
    "\n",
    "f_stores = driver.find_elements(By.CLASS_NAME, 'tzwk0')\n",
    "\n",
    "for i in range(len(f_stores)):\n",
    "    f_stores[i].click()\n",
    "\n",
    "    driver.switch_to.default_content()\n",
    "    time.sleep(1)\n",
    "    \n",
    "    driver.switch_to.frame('entryIframe')\n",
    "\n",
    "    store_nm = driver.find_element(By.CLASS_NAME,'GHAhO')\n",
    "    print(store_nm.text)\n",
    "\n",
    "    try:\n",
    "        store_addr = driver.find_element(By.CLASS_NAME,'LDgIH')\n",
    "        print(store_addr.text)\n",
    "    except:\n",
    "        print('데이터가 존재하지 않음')\n",
    "    \n",
    "    try:\n",
    "        store_tel = driver.find_element(By.CLASS_NAME, 'xlx7Q')\n",
    "        print(store_tel.text)\n",
    "    except:\n",
    "        print('데이터가 존재하지 않음')\n",
    "\n",
    "    driver.switch_to.default_content()\n",
    "    driver.switch_to.frame('searchIframe')\n",
    "\n",
    "    time.sleep(2)\n",
    "\n",
    "driver.quit()"
   ]
  },
  {
   "cell_type": "code",
   "execution_count": null,
   "id": "097f6ded-281a-4073-aae2-fabce63b7434",
   "metadata": {},
   "outputs": [],
   "source": []
  },
  {
   "cell_type": "code",
   "execution_count": null,
   "id": "05e36884-c408-44f7-95d5-2c2706736d47",
   "metadata": {},
   "outputs": [],
   "source": []
  },
  {
   "cell_type": "code",
   "execution_count": null,
   "id": "a570e0ae-f513-4e69-991f-91cc0cab018a",
   "metadata": {},
   "outputs": [],
   "source": []
  },
  {
   "cell_type": "code",
   "execution_count": null,
   "id": "ce6fd49c-cc3b-4fcd-93a9-66765f7ceb6d",
   "metadata": {},
   "outputs": [],
   "source": []
  },
  {
   "cell_type": "code",
   "execution_count": null,
   "id": "2469635c-185d-474d-b99a-0696b6596476",
   "metadata": {},
   "outputs": [],
   "source": []
  },
  {
   "cell_type": "code",
   "execution_count": null,
   "id": "b52b9a67-aad4-4aca-9863-1527e97981d1",
   "metadata": {},
   "outputs": [],
   "source": []
  },
  {
   "cell_type": "code",
   "execution_count": null,
   "id": "dcae3c73-c614-45d9-8c52-8f30467ef6ec",
   "metadata": {},
   "outputs": [],
   "source": []
  },
  {
   "cell_type": "code",
   "execution_count": null,
   "id": "aa49fba4-77c2-4325-974c-d50b48f54a0a",
   "metadata": {},
   "outputs": [],
   "source": []
  },
  {
   "cell_type": "code",
   "execution_count": null,
   "id": "91b84d73-f5f4-47bd-af05-4760c07eae3a",
   "metadata": {},
   "outputs": [],
   "source": []
  },
  {
   "cell_type": "code",
   "execution_count": null,
   "id": "a01f6b0a-4f9f-442f-9f4a-af2046c3d5de",
   "metadata": {},
   "outputs": [],
   "source": []
  },
  {
   "cell_type": "code",
   "execution_count": null,
   "id": "9e2c6cbb-2507-431c-91ad-de055dbb58c6",
   "metadata": {},
   "outputs": [],
   "source": []
  },
  {
   "cell_type": "code",
   "execution_count": null,
   "id": "f262dda5-4db2-4e06-9b31-d1eb31bb99e7",
   "metadata": {},
   "outputs": [],
   "source": []
  },
  {
   "cell_type": "code",
   "execution_count": null,
   "id": "5a8566a7-0e85-4d52-836f-a72e663370cd",
   "metadata": {},
   "outputs": [],
   "source": []
  },
  {
   "cell_type": "code",
   "execution_count": null,
   "id": "634e5555-2b89-4334-8d70-8eeb99d426bc",
   "metadata": {},
   "outputs": [],
   "source": []
  },
  {
   "cell_type": "code",
   "execution_count": null,
   "id": "d8d2cbf4-fe1f-446e-acf6-94248d4c20bc",
   "metadata": {},
   "outputs": [],
   "source": []
  },
  {
   "cell_type": "code",
   "execution_count": null,
   "id": "ecfa0836-dcb0-43b0-ab2b-b4ef3b436cab",
   "metadata": {},
   "outputs": [],
   "source": []
  },
  {
   "cell_type": "code",
   "execution_count": null,
   "id": "629f0db0-f6fe-4aff-9c74-b45607d18fe8",
   "metadata": {},
   "outputs": [],
   "source": []
  },
  {
   "cell_type": "code",
   "execution_count": null,
   "id": "b657aad3-25d3-47d5-9b2e-d339445cd687",
   "metadata": {},
   "outputs": [],
   "source": []
  },
  {
   "cell_type": "code",
   "execution_count": null,
   "id": "4a6b0ae4-426e-4e16-911c-0769514a8987",
   "metadata": {},
   "outputs": [],
   "source": []
  },
  {
   "cell_type": "code",
   "execution_count": null,
   "id": "08aa0a5e-4821-4cdc-905c-4366e835fb61",
   "metadata": {},
   "outputs": [],
   "source": []
  },
  {
   "cell_type": "code",
   "execution_count": null,
   "id": "3442580f-ce96-429f-87fc-205591eeb2f1",
   "metadata": {},
   "outputs": [],
   "source": []
  },
  {
   "cell_type": "code",
   "execution_count": null,
   "id": "c7fed49d-75bb-4b1b-9f81-00a6f182ef1c",
   "metadata": {},
   "outputs": [],
   "source": []
  },
  {
   "cell_type": "code",
   "execution_count": null,
   "id": "d6920207-8079-495d-a061-fa6833a235f1",
   "metadata": {},
   "outputs": [],
   "source": []
  },
  {
   "cell_type": "code",
   "execution_count": null,
   "id": "e96f21ac-eaea-41fa-90e6-7e67cbbf869e",
   "metadata": {},
   "outputs": [],
   "source": []
  }
 ],
 "metadata": {
  "kernelspec": {
   "display_name": "Python 3 (ipykernel)",
   "language": "python",
   "name": "python3"
  },
  "language_info": {
   "codemirror_mode": {
    "name": "ipython",
    "version": 3
   },
   "file_extension": ".py",
   "mimetype": "text/x-python",
   "name": "python",
   "nbconvert_exporter": "python",
   "pygments_lexer": "ipython3",
   "version": "3.11.7"
  }
 },
 "nbformat": 4,
 "nbformat_minor": 5
}
