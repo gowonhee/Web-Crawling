{
 "cells": [
  {
   "cell_type": "code",
   "execution_count": 2,
   "id": "f5a09cbe-9c7f-4858-9085-1f39b1e009f9",
   "metadata": {},
   "outputs": [],
   "source": [
    "import time\n",
    "import pandas as pd\n",
    "\n",
    "from selenium import webdriver as wb\n",
    "from selenium.webdriver.common.by import By\n",
    "from selenium.webdriver.common.keys import Keys"
   ]
  },
  {
   "cell_type": "code",
   "execution_count": 3,
   "id": "0de56a80-e24d-4934-b0c6-1885f5d10dea",
   "metadata": {},
   "outputs": [],
   "source": [
    "driver = wb.Chrome()"
   ]
  },
  {
   "cell_type": "code",
   "execution_count": 4,
   "id": "cb9f51f4-505d-4158-90a0-8e9c7eac20dc",
   "metadata": {},
   "outputs": [],
   "source": [
    "bigKinds_url = 'https://www.bigkinds.or.kr/v2/news/recentNews.do'\n",
    "driver.get(bigKinds_url)"
   ]
  },
  {
   "cell_type": "code",
   "execution_count": 6,
   "id": "9acc105e-ea61-4179-930b-df9714abf98c",
   "metadata": {},
   "outputs": [
    {
     "data": {
      "text/plain": [
       "12"
      ]
     },
     "execution_count": 6,
     "metadata": {},
     "output_type": "execute_result"
    }
   ],
   "source": [
    "news_tit = driver.find_elements(By.CSS_SELECTOR, 'strongtitle')\n",
    "len(news_tit)"
   ]
  },
  {
   "cell_type": "code",
   "execution_count": 7,
   "id": "9cbbbb63-eee8-4d44-bf6f-584f2204bcd4",
   "metadata": {},
   "outputs": [],
   "source": [
    "news_tit[0].click()"
   ]
  },
  {
   "cell_type": "code",
   "execution_count": 8,
   "id": "550740d7-9e0e-4ebe-9238-789fbdedec98",
   "metadata": {},
   "outputs": [
    {
     "name": "stdout",
     "output_type": "stream",
     "text": [
      "[포토] 북한 '오물풍선'에서 떨어진 쓰레기\n",
      "아시아투데이 이병화 기자 = 2일 오전 서울 여의됴 상공에 북한이 날려보낸 대남 쓰레기 풍선에서 쓰레기들이 떨어지고 있다. 이번 쓰레기 풍선 부양은 북한이 5월 28일 1차 '오물 풍선'을 살포한 이후 23번째 도발이다\n",
      "\n",
      "[아시아투데이 이병화]\n"
     ]
    }
   ],
   "source": [
    "title = driver.find_element(By.CSS_SELECTOR, 'h1.title')\n",
    "content = driver.find_element(By.CSS_SELECTOR, 'div.news-view-body')\n",
    "\n",
    "print(title.text)\n",
    "print(content.text)"
   ]
  },
  {
   "cell_type": "code",
   "execution_count": 10,
   "id": "f346cb70-82b0-46bb-9fe0-78785ac97ad6",
   "metadata": {},
   "outputs": [],
   "source": [
    "# clost_btn = driver.find_element(By.CSS_SELECTOR, 'button.modal-close')\n",
    "# clost_btn.click() => 접근할 수 없는 방법\n",
    "\n",
    "# active_element: 현재 활성화된 요소값을 반환 -> 이를 활용해서 모달창 닫기\n",
    "driver.switch_to.active_element.find_element(By.CSS_SELECTOR, 'button.modal-close').click()"
   ]
  },
  {
   "cell_type": "code",
   "execution_count": null,
   "id": "6ca0ae9d-4b65-490c-8239-dfb2701f8aeb",
   "metadata": {},
   "outputs": [],
   "source": []
  },
  {
   "cell_type": "code",
   "execution_count": null,
   "id": "b39b8196-c7b0-426d-b0a5-92dfc7291bd6",
   "metadata": {},
   "outputs": [],
   "source": []
  },
  {
   "cell_type": "code",
   "execution_count": null,
   "id": "772dd5a9-79f0-4844-83bf-55a98d86de8e",
   "metadata": {},
   "outputs": [],
   "source": []
  },
  {
   "cell_type": "code",
   "execution_count": null,
   "id": "7291f074-c328-4351-9058-09c537f31341",
   "metadata": {},
   "outputs": [],
   "source": []
  },
  {
   "cell_type": "code",
   "execution_count": null,
   "id": "fae9a731-cc32-4b1e-ba50-744b77eda0b5",
   "metadata": {},
   "outputs": [],
   "source": []
  },
  {
   "cell_type": "code",
   "execution_count": null,
   "id": "67fcca70-05ff-44cb-a4e6-262e9c840eb1",
   "metadata": {},
   "outputs": [],
   "source": []
  },
  {
   "cell_type": "code",
   "execution_count": null,
   "id": "42230edc-cb0e-4f51-8e27-21ad18e56683",
   "metadata": {},
   "outputs": [],
   "source": []
  },
  {
   "cell_type": "code",
   "execution_count": null,
   "id": "ddef79d9-8dac-4d03-9ffd-11f5aff4d2ff",
   "metadata": {},
   "outputs": [],
   "source": []
  },
  {
   "cell_type": "code",
   "execution_count": null,
   "id": "eca5d73a-046f-4583-b022-27c113cc9b46",
   "metadata": {},
   "outputs": [],
   "source": []
  },
  {
   "cell_type": "code",
   "execution_count": null,
   "id": "a7fcaedc-1264-4615-bb56-d64f05d47f72",
   "metadata": {},
   "outputs": [],
   "source": []
  },
  {
   "cell_type": "code",
   "execution_count": null,
   "id": "e35e361a-29a2-4cfb-b1b4-a30e12e93bd8",
   "metadata": {},
   "outputs": [],
   "source": []
  },
  {
   "cell_type": "code",
   "execution_count": null,
   "id": "8e8994f6-7526-4bc3-a4b5-ba7430f9e5e3",
   "metadata": {},
   "outputs": [],
   "source": []
  },
  {
   "cell_type": "code",
   "execution_count": null,
   "id": "a8a2a8f5-8529-4c07-8e8d-d8abb492cd59",
   "metadata": {},
   "outputs": [],
   "source": []
  },
  {
   "cell_type": "code",
   "execution_count": null,
   "id": "9fd8c828-005f-46e5-843c-0f528c16dea6",
   "metadata": {},
   "outputs": [],
   "source": []
  },
  {
   "cell_type": "code",
   "execution_count": null,
   "id": "4ec3f0f3-2e12-4e7b-b79e-10b1666f5d83",
   "metadata": {},
   "outputs": [],
   "source": []
  },
  {
   "cell_type": "code",
   "execution_count": null,
   "id": "208580d3-215c-4f79-a213-b243c8e8270c",
   "metadata": {},
   "outputs": [],
   "source": []
  },
  {
   "cell_type": "code",
   "execution_count": null,
   "id": "52122c6e-f56d-4053-8208-2a00f3187712",
   "metadata": {},
   "outputs": [],
   "source": []
  },
  {
   "cell_type": "code",
   "execution_count": null,
   "id": "939f0846-73d3-45e0-8d4f-855dae23ff61",
   "metadata": {},
   "outputs": [],
   "source": []
  },
  {
   "cell_type": "code",
   "execution_count": null,
   "id": "9d5d6023-7090-4d04-b0ec-60cef3a25c33",
   "metadata": {},
   "outputs": [],
   "source": []
  },
  {
   "cell_type": "code",
   "execution_count": null,
   "id": "0d015ad1-8bde-493b-bf43-e04683d8cb55",
   "metadata": {},
   "outputs": [],
   "source": []
  },
  {
   "cell_type": "code",
   "execution_count": null,
   "id": "881c64e5-5317-4b58-bc5d-5b827e207723",
   "metadata": {},
   "outputs": [],
   "source": []
  },
  {
   "cell_type": "code",
   "execution_count": null,
   "id": "be886ded-c628-45ef-bbb4-f794d709d263",
   "metadata": {},
   "outputs": [],
   "source": []
  },
  {
   "cell_type": "code",
   "execution_count": null,
   "id": "1d7110bc-666e-404a-9dfd-b6f792724df4",
   "metadata": {},
   "outputs": [],
   "source": []
  },
  {
   "cell_type": "code",
   "execution_count": null,
   "id": "b1f30ca5-f399-4db5-96b8-77f411c27080",
   "metadata": {},
   "outputs": [],
   "source": []
  },
  {
   "cell_type": "code",
   "execution_count": null,
   "id": "f34ec8a6-0699-4307-aa86-0d5727bf5eb9",
   "metadata": {},
   "outputs": [],
   "source": []
  },
  {
   "cell_type": "code",
   "execution_count": null,
   "id": "5ff5efc3-4d99-4b7a-a644-49decbf8f25b",
   "metadata": {},
   "outputs": [],
   "source": []
  },
  {
   "cell_type": "code",
   "execution_count": null,
   "id": "ed0435c6-f347-45fc-986d-180b99dd8434",
   "metadata": {},
   "outputs": [],
   "source": []
  },
  {
   "cell_type": "code",
   "execution_count": null,
   "id": "63c19046-6334-4fe1-a977-cc0183adfdd7",
   "metadata": {},
   "outputs": [],
   "source": []
  },
  {
   "cell_type": "code",
   "execution_count": null,
   "id": "899f86c9-f353-4294-861e-d775f102f8d3",
   "metadata": {},
   "outputs": [],
   "source": []
  },
  {
   "cell_type": "code",
   "execution_count": null,
   "id": "1489c4cf-c6c4-4e67-bbd2-e4464431cb9f",
   "metadata": {},
   "outputs": [],
   "source": []
  },
  {
   "cell_type": "code",
   "execution_count": null,
   "id": "d11edecc-292e-47c7-b978-06afb81c08f0",
   "metadata": {},
   "outputs": [],
   "source": []
  },
  {
   "cell_type": "code",
   "execution_count": null,
   "id": "a8e41c05-50e7-43f8-8a66-a1196f5ff064",
   "metadata": {},
   "outputs": [],
   "source": []
  },
  {
   "cell_type": "code",
   "execution_count": null,
   "id": "f83696fe-4678-4259-9ff9-2193e4175a92",
   "metadata": {},
   "outputs": [],
   "source": []
  },
  {
   "cell_type": "code",
   "execution_count": null,
   "id": "d601b728-4685-431f-9a39-cbd42579db41",
   "metadata": {},
   "outputs": [],
   "source": []
  },
  {
   "cell_type": "code",
   "execution_count": null,
   "id": "24cf3308-e8a4-4821-bce0-346389c75d6c",
   "metadata": {},
   "outputs": [],
   "source": []
  },
  {
   "cell_type": "code",
   "execution_count": null,
   "id": "b6c84046-5796-4a12-88a5-78d2e85675bb",
   "metadata": {},
   "outputs": [],
   "source": []
  },
  {
   "cell_type": "code",
   "execution_count": null,
   "id": "af3fffdd-a50d-437f-9261-da2de0d857dd",
   "metadata": {},
   "outputs": [],
   "source": []
  },
  {
   "cell_type": "code",
   "execution_count": null,
   "id": "0aac6b63-e928-4629-99d4-40175895780b",
   "metadata": {},
   "outputs": [],
   "source": []
  },
  {
   "cell_type": "code",
   "execution_count": null,
   "id": "99147b1b-c6cf-43e2-ab6d-78381c1989df",
   "metadata": {},
   "outputs": [],
   "source": []
  },
  {
   "cell_type": "code",
   "execution_count": null,
   "id": "df7a5ac8-21b4-4208-87d9-e4698238f799",
   "metadata": {},
   "outputs": [],
   "source": []
  },
  {
   "cell_type": "code",
   "execution_count": null,
   "id": "421f9d93-239c-4be5-88ad-fb8b5dc03ae8",
   "metadata": {},
   "outputs": [],
   "source": []
  },
  {
   "cell_type": "code",
   "execution_count": null,
   "id": "f71a98e3-b5e3-4c0b-984c-a947ec39ddbb",
   "metadata": {},
   "outputs": [],
   "source": []
  },
  {
   "cell_type": "code",
   "execution_count": null,
   "id": "e55b0f12-e8ea-4f97-bcd4-d2f271ed7aeb",
   "metadata": {},
   "outputs": [],
   "source": []
  },
  {
   "cell_type": "code",
   "execution_count": null,
   "id": "c2dbf328-beb6-4157-914d-18ebb68ba00a",
   "metadata": {},
   "outputs": [],
   "source": []
  },
  {
   "cell_type": "code",
   "execution_count": null,
   "id": "2778724b-54db-40dd-8b50-a912bcd022c3",
   "metadata": {},
   "outputs": [],
   "source": []
  },
  {
   "cell_type": "code",
   "execution_count": null,
   "id": "9e910bb4-4699-4a74-ad46-9ba9d5851d4d",
   "metadata": {},
   "outputs": [],
   "source": []
  },
  {
   "cell_type": "code",
   "execution_count": null,
   "id": "dd44c5ce-2bf5-48c9-bfe4-262df565c98c",
   "metadata": {},
   "outputs": [],
   "source": []
  },
  {
   "cell_type": "code",
   "execution_count": null,
   "id": "afec9293-40d5-486c-bfb9-7d57e9431d8e",
   "metadata": {},
   "outputs": [],
   "source": []
  },
  {
   "cell_type": "code",
   "execution_count": null,
   "id": "7eacd437-1647-420f-b6b3-9cc0e829d942",
   "metadata": {},
   "outputs": [],
   "source": []
  },
  {
   "cell_type": "code",
   "execution_count": null,
   "id": "7584cf7c-d269-4015-93df-a86f451641dd",
   "metadata": {},
   "outputs": [],
   "source": []
  },
  {
   "cell_type": "code",
   "execution_count": null,
   "id": "229d91b6-3b6e-400d-8eac-58167a8b847e",
   "metadata": {},
   "outputs": [],
   "source": []
  },
  {
   "cell_type": "code",
   "execution_count": null,
   "id": "63967005-abce-4a48-a22a-213a5b4ef6b2",
   "metadata": {},
   "outputs": [],
   "source": []
  },
  {
   "cell_type": "code",
   "execution_count": null,
   "id": "682138df-b0a9-466f-9631-994bfe193b43",
   "metadata": {},
   "outputs": [],
   "source": []
  }
 ],
 "metadata": {
  "kernelspec": {
   "display_name": "Python 3 (ipykernel)",
   "language": "python",
   "name": "python3"
  },
  "language_info": {
   "codemirror_mode": {
    "name": "ipython",
    "version": 3
   },
   "file_extension": ".py",
   "mimetype": "text/x-python",
   "name": "python",
   "nbconvert_exporter": "python",
   "pygments_lexer": "ipython3",
   "version": "3.11.7"
  }
 },
 "nbformat": 4,
 "nbformat_minor": 5
}
